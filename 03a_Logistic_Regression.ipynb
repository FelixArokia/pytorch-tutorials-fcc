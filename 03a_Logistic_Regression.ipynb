{
 "cells": [
  {
   "cell_type": "markdown",
   "id": "destroyed-ability",
   "metadata": {},
   "source": [
    "# Assignment - CIFAR 10 dataset\n",
    "\n",
    "Download from [here](https://www.kaggle.com/c/cifar-10/data?select=train.7z)"
   ]
  },
  {
   "cell_type": "code",
   "execution_count": 12,
   "id": "affected-dayton",
   "metadata": {},
   "outputs": [],
   "source": [
    "import torch\n",
    "import numpy as np\n",
    "import matplotlib.pyplot as plt\n",
    "import os\n",
    "import pandas as pd"
   ]
  },
  {
   "cell_type": "code",
   "execution_count": 54,
   "id": "cellular-termination",
   "metadata": {},
   "outputs": [
    {
     "name": "stdout",
     "output_type": "stream",
     "text": [
      "total train images :  50000\n"
     ]
    },
    {
     "data": {
      "text/plain": [
       "['1.png',\n",
       " '10.png',\n",
       " '100.png',\n",
       " '1000.png',\n",
       " '10000.png',\n",
       " '10001.png',\n",
       " '10002.png',\n",
       " '10003.png',\n",
       " '10004.png',\n",
       " '10005.png',\n",
       " '10006.png']"
      ]
     },
     "execution_count": 54,
     "metadata": {},
     "output_type": "execute_result"
    }
   ],
   "source": [
    "train_file_list = os.listdir(\"./data/cifar-10/train/\")\n",
    "print(\"total train images : \", len(train_file_list))\n",
    "train_file_list.sort()\n",
    "train_file_list[:11]"
   ]
  },
  {
   "cell_type": "code",
   "execution_count": 44,
   "id": "secret-remains",
   "metadata": {},
   "outputs": [
    {
     "data": {
      "text/plain": [
       "(50000, 32, 32, 3)"
      ]
     },
     "execution_count": 44,
     "metadata": {},
     "output_type": "execute_result"
    }
   ],
   "source": [
    "train_dataset = []\n",
    "for image_name in train_file_list:\n",
    "    image = plt.imread(\"./data/cifar-10/train/\" + image_name)\n",
    "    train_dataset.append(image)\n",
    "\n",
    "train_dataset = np.array(train_dataset)\n",
    "train_dataset.shape"
   ]
  },
  {
   "cell_type": "code",
   "execution_count": 78,
   "id": "sublime-benjamin",
   "metadata": {},
   "outputs": [
    {
     "name": "stdout",
     "output_type": "stream",
     "text": [
      "['airplane' 'automobile' 'bird' 'cat' 'deer' 'dog' 'frog' 'horse' 'ship'\n",
      " 'truck']\n"
     ]
    },
    {
     "data": {
      "text/html": [
       "<div>\n",
       "<style scoped>\n",
       "    .dataframe tbody tr th:only-of-type {\n",
       "        vertical-align: middle;\n",
       "    }\n",
       "\n",
       "    .dataframe tbody tr th {\n",
       "        vertical-align: top;\n",
       "    }\n",
       "\n",
       "    .dataframe thead th {\n",
       "        text-align: right;\n",
       "    }\n",
       "</style>\n",
       "<table border=\"1\" class=\"dataframe\">\n",
       "  <thead>\n",
       "    <tr style=\"text-align: right;\">\n",
       "      <th></th>\n",
       "      <th>id</th>\n",
       "      <th>label</th>\n",
       "      <th>encoded</th>\n",
       "    </tr>\n",
       "  </thead>\n",
       "  <tbody>\n",
       "    <tr>\n",
       "      <th>0</th>\n",
       "      <td>1.png</td>\n",
       "      <td>frog</td>\n",
       "      <td>6</td>\n",
       "    </tr>\n",
       "    <tr>\n",
       "      <th>9</th>\n",
       "      <td>10.png</td>\n",
       "      <td>cat</td>\n",
       "      <td>3</td>\n",
       "    </tr>\n",
       "    <tr>\n",
       "      <th>99</th>\n",
       "      <td>100.png</td>\n",
       "      <td>automobile</td>\n",
       "      <td>1</td>\n",
       "    </tr>\n",
       "    <tr>\n",
       "      <th>999</th>\n",
       "      <td>1000.png</td>\n",
       "      <td>dog</td>\n",
       "      <td>5</td>\n",
       "    </tr>\n",
       "    <tr>\n",
       "      <th>9999</th>\n",
       "      <td>10000.png</td>\n",
       "      <td>dog</td>\n",
       "      <td>5</td>\n",
       "    </tr>\n",
       "  </tbody>\n",
       "</table>\n",
       "</div>"
      ],
      "text/plain": [
       "             id       label  encoded\n",
       "0         1.png        frog        6\n",
       "9        10.png         cat        3\n",
       "99      100.png  automobile        1\n",
       "999    1000.png         dog        5\n",
       "9999  10000.png         dog        5"
      ]
     },
     "execution_count": 78,
     "metadata": {},
     "output_type": "execute_result"
    }
   ],
   "source": [
    "train_labels = pd.read_csv(\"data/cifar-10/trainLabels.csv\")\n",
    "train_labels['id'] = train_labels['id'].astype(str) + \".png\"\n",
    "train_labels.sort_values('id', inplace=True)\n",
    "labels = train_labels['label'].unique()\n",
    "from sklearn import preprocessing\n",
    "le = preprocessing.LabelEncoder()\n",
    "targets = le.fit(labels)\n",
    "print(le.classes_)\n",
    "train_labels['encoded'] = le.transform(train_labels['label'])\n",
    "train_labels.head()"
   ]
  },
  {
   "cell_type": "code",
   "execution_count": 79,
   "id": "motivated-brake",
   "metadata": {},
   "outputs": [],
   "source": [
    "train_labels = train_labels['encoded'].values"
   ]
  },
  {
   "cell_type": "markdown",
   "id": "communist-experience",
   "metadata": {},
   "source": [
    "Example"
   ]
  },
  {
   "cell_type": "code",
   "execution_count": 80,
   "id": "straight-pasta",
   "metadata": {},
   "outputs": [
    {
     "data": {
      "text/plain": [
       "(<matplotlib.image.AxesImage at 0x1312ff850>, 1)"
      ]
     },
     "execution_count": 80,
     "metadata": {},
     "output_type": "execute_result"
    },
    {
     "data": {
      "image/png": "[encoded data removed]",
      "text/plain": [
       "<Figure size 432x288 with 1 Axes>"
      ]
     },
     "metadata": {
      "needs_background": "light"
     },
     "output_type": "display_data"
    }
   ],
   "source": [
    "plt.imshow(train_dataset[2]), train_labels[2]"
   ]
  },
  {
   "cell_type": "code",
   "execution_count": 81,
   "id": "looking-tobago",
   "metadata": {},
   "outputs": [],
   "source": [
    "from torch.utils.data import TensorDataset\n",
    "from torch.utils.data.sampler import SubsetRandomSampler\n",
    "from torch.utils.data.dataloader import DataLoader"
   ]
  },
  {
   "cell_type": "code",
   "execution_count": 82,
   "id": "moving-scientist",
   "metadata": {},
   "outputs": [],
   "source": [
    "dataset = TensorDataset(torch.from_numpy(train_dataset), torch.from_numpy(train_labels.astype(int)))"
   ]
  },
  {
   "cell_type": "markdown",
   "id": "authorized-woman",
   "metadata": {},
   "source": [
    "# Data Split and Loader"
   ]
  },
  {
   "cell_type": "code",
   "execution_count": 83,
   "id": "amended-guard",
   "metadata": {},
   "outputs": [],
   "source": [
    "def split_indices(n, val_pct):\n",
    "    idx = np.random.permutation(n) #random numbers between 0 and the n given\n",
    "    n_val = int(n * val_pct)\n",
    "    idx_train = idx[n_val:]\n",
    "    idx_val = idx[:n_val]\n",
    "    return idx_train, idx_val"
   ]
  },
  {
   "cell_type": "code",
   "execution_count": 89,
   "id": "superb-bowling",
   "metadata": {},
   "outputs": [
    {
     "name": "stdout",
     "output_type": "stream",
     "text": [
      "[38663 18491 44511 ... 48582 14650 29556], train shape : (40000,), \n",
      " [34916 11619 35450 ... 29031 25968  2695], val_shape : (10000,)\n"
     ]
    }
   ],
   "source": [
    "train_indices, val_indices = split_indices(len(dataset), val_pct = 0.2)\n",
    "print(f'{train_indices}, train shape : {train_indices.shape}, \\n {val_indices}, val_shape : {val_indices.shape}')"
   ]
  },
  {
   "cell_type": "code",
   "execution_count": 90,
   "id": "fantastic-huntington",
   "metadata": {},
   "outputs": [],
   "source": [
    "batch_size = 500\n",
    "train_sampler = SubsetRandomSampler(train_indices) # taking the train indices and use only those for sampling\n",
    "train_loader = DataLoader(dataset, batch_size, sampler = train_sampler)\n",
    "\n",
    "val_sampler = SubsetRandomSampler(val_indices) # taking the val indices and use only those for sampling\n",
    "val_loader = DataLoader(dataset, batch_size, sampler = val_sampler)"
   ]
  },
  {
   "cell_type": "markdown",
   "id": "diverse-parking",
   "metadata": {},
   "source": [
    "# Model"
   ]
  },
  {
   "cell_type": "code",
   "execution_count": 132,
   "id": "adequate-blood",
   "metadata": {},
   "outputs": [],
   "source": [
    "from torch import nn\n",
    "\n",
    "input_size = 32*32*3\n",
    "num_classes = 10\n",
    "\n",
    "class CIFAR10Model(nn.Module):\n",
    "    def __init__(self):\n",
    "        super().__init__()\n",
    "        self.linear = nn.Linear(input_size, num_classes)\n",
    "        \n",
    "    def forward(self, xb):\n",
    "        xb = xb.reshape(-1, 32*32*3)\n",
    "        out = self.linear(xb)\n",
    "        return out\n",
    "\n",
    "model = CIFAR10Model()"
   ]
  },
  {
   "cell_type": "code",
   "execution_count": 133,
   "id": "unlimited-master",
   "metadata": {},
   "outputs": [],
   "source": [
    "def loss_batch(model, loss_func, xb, yb, opt = None, metric = None ):\n",
    "    preds = model(xb) # Notice it calls forward fucntion\n",
    "    loss = loss_func(preds, yb)\n",
    "    if opt is not None:\n",
    "        loss.backward()\n",
    "        opt.step()\n",
    "        opt.zero_grad()\n",
    "        \n",
    "    metric_result = None\n",
    "    if metric is not None:\n",
    "        metric_result = metric(preds, yb)\n",
    "        \n",
    "    return loss.item(), len(xb), metric_result"
   ]
  },
  {
   "cell_type": "code",
   "execution_count": 134,
   "id": "worth-defeat",
   "metadata": {},
   "outputs": [],
   "source": [
    "def evaluate(model, loss_func, valid_dl, metric):\n",
    "    with torch.no_grad(): ## needed because we dont want to recompute gradients for validation data\n",
    "        results = [loss_batch(model, loss_func, xb, yb, opt=None, metric = metric) \n",
    "                   for xb, yb in valid_dl]\n",
    "        \n",
    "        # results will be stored for each batch of validation data\n",
    "        \n",
    "        losses, batch_size_list, metric_values = zip(*results) #unlist and separate each\n",
    "        total_validation_rows = np.sum(batch_size_list)\n",
    "        avg_loss = np.sum(np.multiply(losses , batch_size_list)) / total_validation_rows \n",
    "        #batch size could be different for the last batch so doing weighted average\n",
    "        \n",
    "        avg_metric = None\n",
    "        if metric is not None:\n",
    "            avg_metric = np.sum(np.multiply(metric_values, batch_size_list)) / total_validation_rows\n",
    "            \n",
    "        return avg_loss, total_validation_rows, avg_metric"
   ]
  },
  {
   "cell_type": "code",
   "execution_count": 135,
   "id": "pressed-musician",
   "metadata": {},
   "outputs": [],
   "source": [
    "def accuracy(outputs, labels):\n",
    "    # Apply softmax for each row\n",
    "    probs = F.softmax(outputs, dim=1) \n",
    "    _, preds = torch.max(probs, dim = 1) \n",
    "    \n",
    "    return torch.sum(preds == labels).item() / len(labels)"
   ]
  },
  {
   "cell_type": "markdown",
   "id": "worldwide-ceiling",
   "metadata": {},
   "source": [
    "# Model Fit"
   ]
  },
  {
   "cell_type": "code",
   "execution_count": 136,
   "id": "latter-preliminary",
   "metadata": {},
   "outputs": [],
   "source": [
    "def fit(epochs, model, loss_fn, opt, train_dl, val_dl, metric = None):\n",
    "    for epoch in range(epochs):\n",
    "        # TRAINING\n",
    "        for xb, yb in train_dl:\n",
    "            loss,_1,_2 = loss_batch(model, loss_fn, xb, yb, opt, metric)\n",
    "\n",
    "        # EVALUATION on train data\n",
    "        result = evaluate(model, loss_fn, val_dl, metric)\n",
    "        val_loss, total, val_metric = result\n",
    "        \n",
    "        print()\n",
    "        print(f'Epoch: {epoch + 1}/{epochs}')\n",
    "        print(f'Loss: {round(val_loss, 3)}')\n",
    "        if metric is not None:\n",
    "            print(f'{metric.__name__} : {round(val_metric*100, 2)}%')"
   ]
  },
  {
   "cell_type": "code",
   "execution_count": 137,
   "id": "strange-saver",
   "metadata": {},
   "outputs": [],
   "source": [
    "import torch.nn.functional as F\n",
    "# define model and optimizer\n",
    "model = CIFAR10Model()\n",
    "optimizer = torch.optim.SGD(model.parameters(), lr = 0.01)\n",
    "loss_fn = F.cross_entropy"
   ]
  },
  {
   "cell_type": "code",
   "execution_count": 139,
   "id": "interested-bedroom",
   "metadata": {},
   "outputs": [
    {
     "name": "stdout",
     "output_type": "stream",
     "text": [
      "\n",
      "Epoch: 1/100\n",
      "Loss: 1.755\n",
      "accuracy : 39.99%\n",
      "\n",
      "Epoch: 2/100\n",
      "Loss: 1.759\n",
      "accuracy : 39.7%\n",
      "\n",
      "Epoch: 3/100\n",
      "Loss: 1.754\n",
      "accuracy : 39.82%\n",
      "\n",
      "Epoch: 4/100\n",
      "Loss: 1.755\n",
      "accuracy : 39.87%\n",
      "\n",
      "Epoch: 5/100\n",
      "Loss: 1.759\n",
      "accuracy : 39.93%\n",
      "\n",
      "Epoch: 6/100\n",
      "Loss: 1.755\n",
      "accuracy : 39.84%\n",
      "\n",
      "Epoch: 7/100\n",
      "Loss: 1.755\n",
      "accuracy : 39.9%\n",
      "\n",
      "Epoch: 8/100\n",
      "Loss: 1.753\n",
      "accuracy : 40.02%\n",
      "\n",
      "Epoch: 9/100\n",
      "Loss: 1.754\n",
      "accuracy : 39.86%\n",
      "\n",
      "Epoch: 10/100\n",
      "Loss: 1.755\n",
      "accuracy : 39.87%\n",
      "\n",
      "Epoch: 11/100\n",
      "Loss: 1.754\n",
      "accuracy : 39.89%\n",
      "\n",
      "Epoch: 12/100\n",
      "Loss: 1.753\n",
      "accuracy : 39.82%\n",
      "\n",
      "Epoch: 13/100\n",
      "Loss: 1.753\n",
      "accuracy : 39.7%\n",
      "\n",
      "Epoch: 14/100\n",
      "Loss: 1.756\n",
      "accuracy : 39.55%\n",
      "\n",
      "Epoch: 15/100\n",
      "Loss: 1.752\n",
      "accuracy : 40.1%\n",
      "\n",
      "Epoch: 16/100\n",
      "Loss: 1.754\n",
      "accuracy : 39.78%\n",
      "\n",
      "Epoch: 17/100\n",
      "Loss: 1.752\n",
      "accuracy : 39.97%\n",
      "\n",
      "Epoch: 18/100\n",
      "Loss: 1.751\n",
      "accuracy : 39.89%\n",
      "\n",
      "Epoch: 19/100\n",
      "Loss: 1.751\n",
      "accuracy : 39.83%\n",
      "\n",
      "Epoch: 20/100\n",
      "Loss: 1.753\n",
      "accuracy : 39.79%\n",
      "\n",
      "Epoch: 21/100\n",
      "Loss: 1.75\n",
      "accuracy : 40.11%\n",
      "\n",
      "Epoch: 22/100\n",
      "Loss: 1.755\n",
      "accuracy : 39.92%\n",
      "\n",
      "Epoch: 23/100\n",
      "Loss: 1.753\n",
      "accuracy : 39.73%\n",
      "\n",
      "Epoch: 24/100\n",
      "Loss: 1.755\n",
      "accuracy : 39.64%\n",
      "\n",
      "Epoch: 25/100\n",
      "Loss: 1.751\n",
      "accuracy : 39.72%\n",
      "\n",
      "Epoch: 26/100\n",
      "Loss: 1.751\n",
      "accuracy : 39.98%\n",
      "\n",
      "Epoch: 27/100\n",
      "Loss: 1.748\n",
      "accuracy : 40.08%\n",
      "\n",
      "Epoch: 28/100\n",
      "Loss: 1.756\n",
      "accuracy : 39.76%\n",
      "\n",
      "Epoch: 29/100\n",
      "Loss: 1.751\n",
      "accuracy : 40.11%\n",
      "\n",
      "Epoch: 30/100\n",
      "Loss: 1.751\n",
      "accuracy : 39.9%\n",
      "\n",
      "Epoch: 31/100\n",
      "Loss: 1.751\n",
      "accuracy : 39.88%\n",
      "\n",
      "Epoch: 32/100\n",
      "Loss: 1.754\n",
      "accuracy : 39.77%\n",
      "\n",
      "Epoch: 33/100\n",
      "Loss: 1.75\n",
      "accuracy : 39.89%\n",
      "\n",
      "Epoch: 34/100\n",
      "Loss: 1.75\n",
      "accuracy : 39.84%\n",
      "\n",
      "Epoch: 35/100\n",
      "Loss: 1.747\n",
      "accuracy : 40.07%\n",
      "\n",
      "Epoch: 36/100\n",
      "Loss: 1.748\n",
      "accuracy : 40.24%\n",
      "\n",
      "Epoch: 37/100\n",
      "Loss: 1.749\n",
      "accuracy : 40.02%\n",
      "\n",
      "Epoch: 38/100\n",
      "Loss: 1.752\n",
      "accuracy : 40.37%\n",
      "\n",
      "Epoch: 39/100\n",
      "Loss: 1.749\n",
      "accuracy : 40.11%\n",
      "\n",
      "Epoch: 40/100\n",
      "Loss: 1.752\n",
      "accuracy : 40.13%\n",
      "\n",
      "Epoch: 41/100\n",
      "Loss: 1.75\n",
      "accuracy : 39.91%\n",
      "\n",
      "Epoch: 42/100\n",
      "Loss: 1.749\n",
      "accuracy : 40.16%\n",
      "\n",
      "Epoch: 43/100\n",
      "Loss: 1.748\n",
      "accuracy : 39.99%\n",
      "\n",
      "Epoch: 44/100\n",
      "Loss: 1.748\n",
      "accuracy : 40.21%\n",
      "\n",
      "Epoch: 45/100\n",
      "Loss: 1.748\n",
      "accuracy : 40.2%\n",
      "\n",
      "Epoch: 46/100\n",
      "Loss: 1.752\n",
      "accuracy : 40.33%\n",
      "\n",
      "Epoch: 47/100\n",
      "Loss: 1.748\n",
      "accuracy : 40.17%\n",
      "\n",
      "Epoch: 48/100\n",
      "Loss: 1.746\n",
      "accuracy : 40.29%\n",
      "\n",
      "Epoch: 49/100\n",
      "Loss: 1.748\n",
      "accuracy : 40.24%\n",
      "\n",
      "Epoch: 50/100\n",
      "Loss: 1.753\n",
      "accuracy : 39.58%\n",
      "\n",
      "Epoch: 51/100\n",
      "Loss: 1.75\n",
      "accuracy : 40.25%\n",
      "\n",
      "Epoch: 52/100\n",
      "Loss: 1.746\n",
      "accuracy : 40.51%\n",
      "\n",
      "Epoch: 53/100\n",
      "Loss: 1.749\n",
      "accuracy : 40.09%\n",
      "\n",
      "Epoch: 54/100\n",
      "Loss: 1.749\n",
      "accuracy : 40.35%\n",
      "\n",
      "Epoch: 55/100\n",
      "Loss: 1.749\n",
      "accuracy : 40.08%\n",
      "\n",
      "Epoch: 56/100\n",
      "Loss: 1.747\n",
      "accuracy : 40.24%\n",
      "\n",
      "Epoch: 57/100\n",
      "Loss: 1.748\n",
      "accuracy : 40.35%\n",
      "\n",
      "Epoch: 58/100\n",
      "Loss: 1.748\n",
      "accuracy : 40.48%\n",
      "\n",
      "Epoch: 59/100\n",
      "Loss: 1.747\n",
      "accuracy : 40.24%\n",
      "\n",
      "Epoch: 60/100\n",
      "Loss: 1.747\n",
      "accuracy : 40.22%\n",
      "\n",
      "Epoch: 61/100\n",
      "Loss: 1.746\n",
      "accuracy : 40.11%\n",
      "\n",
      "Epoch: 62/100\n",
      "Loss: 1.746\n",
      "accuracy : 40.2%\n",
      "\n",
      "Epoch: 63/100\n",
      "Loss: 1.746\n",
      "accuracy : 40.27%\n",
      "\n",
      "Epoch: 64/100\n",
      "Loss: 1.748\n",
      "accuracy : 40.42%\n",
      "\n",
      "Epoch: 65/100\n",
      "Loss: 1.747\n",
      "accuracy : 40.38%\n",
      "\n",
      "Epoch: 66/100\n",
      "Loss: 1.755\n",
      "accuracy : 39.63%\n",
      "\n",
      "Epoch: 67/100\n",
      "Loss: 1.748\n",
      "accuracy : 40.22%\n",
      "\n",
      "Epoch: 68/100\n",
      "Loss: 1.745\n",
      "accuracy : 40.62%\n",
      "\n",
      "Epoch: 69/100\n",
      "Loss: 1.744\n",
      "accuracy : 40.46%\n",
      "\n",
      "Epoch: 70/100\n",
      "Loss: 1.744\n",
      "accuracy : 40.68%\n",
      "\n",
      "Epoch: 71/100\n",
      "Loss: 1.746\n",
      "accuracy : 40.33%\n",
      "\n",
      "Epoch: 72/100\n",
      "Loss: 1.748\n",
      "accuracy : 40.06%\n",
      "\n",
      "Epoch: 73/100\n",
      "Loss: 1.746\n",
      "accuracy : 40.28%\n",
      "\n",
      "Epoch: 74/100\n",
      "Loss: 1.743\n",
      "accuracy : 40.38%\n",
      "\n",
      "Epoch: 75/100\n",
      "Loss: 1.744\n",
      "accuracy : 40.48%\n",
      "\n",
      "Epoch: 76/100\n",
      "Loss: 1.743\n",
      "accuracy : 40.47%\n",
      "\n",
      "Epoch: 77/100\n",
      "Loss: 1.744\n",
      "accuracy : 40.39%\n",
      "\n",
      "Epoch: 78/100\n",
      "Loss: 1.743\n",
      "accuracy : 40.34%\n",
      "\n",
      "Epoch: 79/100\n",
      "Loss: 1.745\n",
      "accuracy : 40.42%\n",
      "\n",
      "Epoch: 80/100\n",
      "Loss: 1.747\n",
      "accuracy : 40.41%\n",
      "\n",
      "Epoch: 81/100\n",
      "Loss: 1.744\n",
      "accuracy : 40.41%\n",
      "\n",
      "Epoch: 82/100\n",
      "Loss: 1.746\n",
      "accuracy : 40.19%\n",
      "\n",
      "Epoch: 83/100\n",
      "Loss: 1.746\n",
      "accuracy : 40.42%\n",
      "\n",
      "Epoch: 84/100\n",
      "Loss: 1.749\n",
      "accuracy : 40.06%\n",
      "\n",
      "Epoch: 85/100\n",
      "Loss: 1.743\n",
      "accuracy : 40.54%\n",
      "\n",
      "Epoch: 86/100\n",
      "Loss: 1.746\n",
      "accuracy : 40.15%\n",
      "\n",
      "Epoch: 87/100\n",
      "Loss: 1.745\n",
      "accuracy : 40.42%\n",
      "\n",
      "Epoch: 88/100\n",
      "Loss: 1.744\n",
      "accuracy : 40.64%\n",
      "\n",
      "Epoch: 89/100\n",
      "Loss: 1.746\n",
      "accuracy : 40.13%\n",
      "\n",
      "Epoch: 90/100\n",
      "Loss: 1.741\n",
      "accuracy : 40.6%\n",
      "\n",
      "Epoch: 91/100\n",
      "Loss: 1.742\n",
      "accuracy : 40.6%\n",
      "\n",
      "Epoch: 92/100\n",
      "Loss: 1.744\n",
      "accuracy : 40.53%\n",
      "\n",
      "Epoch: 93/100\n",
      "Loss: 1.744\n",
      "accuracy : 40.6%\n",
      "\n",
      "Epoch: 94/100\n",
      "Loss: 1.743\n",
      "accuracy : 40.31%\n",
      "\n",
      "Epoch: 95/100\n",
      "Loss: 1.744\n",
      "accuracy : 40.38%\n",
      "\n",
      "Epoch: 96/100\n",
      "Loss: 1.746\n",
      "accuracy : 40.11%\n",
      "\n",
      "Epoch: 97/100\n",
      "Loss: 1.745\n",
      "accuracy : 40.38%\n",
      "\n",
      "Epoch: 98/100\n",
      "Loss: 1.741\n",
      "accuracy : 40.57%\n",
      "\n",
      "Epoch: 99/100\n",
      "Loss: 1.743\n",
      "accuracy : 40.57%\n",
      "\n",
      "Epoch: 100/100\n",
      "Loss: 1.741\n",
      "accuracy : 40.53%\n"
     ]
    }
   ],
   "source": [
    "fit(100, model, loss_fn, optimizer, train_loader, val_loader, accuracy)"
   ]
  },
  {
   "cell_type": "markdown",
   "id": "polished-farmer",
   "metadata": {},
   "source": [
    "cifar accuracy for logistic regression is around 40% only [see here](https://github.com/wikiabhi/Cifar-10)"
   ]
  },
  {
   "cell_type": "markdown",
   "id": "municipal-cleanup",
   "metadata": {},
   "source": [
    "# Save Model"
   ]
  },
  {
   "cell_type": "code",
   "execution_count": 142,
   "id": "occupational-turner",
   "metadata": {},
   "outputs": [],
   "source": [
    "torch.save(model.state_dict(), \"CIFARModeldict.pth\")"
   ]
  },
  {
   "cell_type": "markdown",
   "id": "auburn-bryan",
   "metadata": {},
   "source": [
    "# Load Model"
   ]
  },
  {
   "cell_type": "code",
   "execution_count": 143,
   "id": "declared-swimming",
   "metadata": {},
   "outputs": [
    {
     "data": {
      "text/plain": [
       "OrderedDict([('linear.weight',\n",
       "              tensor([[ 0.0284,  0.0146,  0.0725,  ..., -0.0016, -0.0492, -0.0314],\n",
       "                      [-0.0327, -0.0234,  0.0035,  ..., -0.0233, -0.0397, -0.0013],\n",
       "                      [-0.0047, -0.0066, -0.0652,  ...,  0.0368,  0.0149, -0.0251],\n",
       "                      ...,\n",
       "                      [-0.0190,  0.0319,  0.0762,  ...,  0.0930,  0.0895, -0.0298],\n",
       "                      [ 0.0676,  0.0559,  0.0618,  ..., -0.1165, -0.0178,  0.0728],\n",
       "                      [-0.0302,  0.0422,  0.0930,  ...,  0.0910,  0.0619,  0.0427]])),\n",
       "             ('linear.bias',\n",
       "              tensor([-0.7047,  0.3015,  0.2120,  0.2843,  0.2675, -0.1934,  0.4381,  0.0699,\n",
       "                      -0.6579,  0.0095]))])"
      ]
     },
     "execution_count": 143,
     "metadata": {},
     "output_type": "execute_result"
    }
   ],
   "source": [
    "model2 = CIFAR10Model()\n",
    "model2.load_state_dict(torch.load(\"./CIFARModeldict.pth\"))\n",
    "model2.state_dict()"
   ]
  },
  {
   "cell_type": "markdown",
   "id": "magnetic-memory",
   "metadata": {},
   "source": []
  },
  {
   "cell_type": "code",
   "execution_count": null,
   "id": "cooperative-federation",
   "metadata": {},
   "outputs": [],
   "source": []
  }
 ],
 "metadata": {
  "kernelspec": {
   "display_name": "Python 3",
   "language": "python",
   "name": "python3"
  },
  "language_info": {
   "codemirror_mode": {
    "name": "ipython",
    "version": 3
   },
   "file_extension": ".py",
   "mimetype": "text/x-python",
   "name": "python",
   "nbconvert_exporter": "python",
   "pygments_lexer": "ipython3",
   "version": "3.8.1"
  }
 },
 "nbformat": 4,
 "nbformat_minor": 5
}
