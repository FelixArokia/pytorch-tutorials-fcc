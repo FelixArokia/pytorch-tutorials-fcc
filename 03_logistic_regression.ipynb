{
 "cells": [
  {
   "cell_type": "code",
   "execution_count": 1,
   "id": "occupied-retreat",
   "metadata": {},
   "outputs": [],
   "source": [
    "import torch\n",
    "import numpy as np\n",
    "import pandas as pd\n",
    "import matplotlib.pyplot as plt"
   ]
  },
  {
   "cell_type": "code",
   "execution_count": 2,
   "id": "relevant-wells",
   "metadata": {},
   "outputs": [
    {
     "data": {
      "text/plain": [
       "'1.8.1'"
      ]
     },
     "execution_count": 2,
     "metadata": {},
     "output_type": "execute_result"
    }
   ],
   "source": [
    "torch.__version__"
   ]
  },
  {
   "cell_type": "code",
   "execution_count": 3,
   "id": "portable-naples",
   "metadata": {},
   "outputs": [],
   "source": [
    "import torchvision\n",
    "from torchvision.datasets import MNIST"
   ]
  },
  {
   "cell_type": "code",
   "execution_count": 4,
   "id": "optimum-background",
   "metadata": {},
   "outputs": [
    {
     "data": {
      "text/plain": [
       "'0.9.1'"
      ]
     },
     "execution_count": 4,
     "metadata": {},
     "output_type": "execute_result"
    }
   ],
   "source": [
    "torchvision.__version__"
   ]
  },
  {
   "cell_type": "code",
   "execution_count": 5,
   "id": "primary-orleans",
   "metadata": {},
   "outputs": [],
   "source": [
    "# Download the train dataset\n",
    "dataset = MNIST(root = \"./data/\", download = True)"
   ]
  },
  {
   "cell_type": "code",
   "execution_count": 6,
   "id": "interior-auckland",
   "metadata": {},
   "outputs": [
    {
     "data": {
      "text/plain": [
       "(torchvision.datasets.mnist.MNIST, 60000)"
      ]
     },
     "execution_count": 6,
     "metadata": {},
     "output_type": "execute_result"
    }
   ],
   "source": [
    "type(dataset), len(dataset)"
   ]
  },
  {
   "cell_type": "code",
   "execution_count": 7,
   "id": "colored-contest",
   "metadata": {},
   "outputs": [
    {
     "data": {
      "text/plain": [
       "10000"
      ]
     },
     "execution_count": 7,
     "metadata": {},
     "output_type": "execute_result"
    }
   ],
   "source": [
    "test_dataset = MNIST(root = \"./data/\", download= True, train= False)\n",
    "len(test_dataset)"
   ]
  },
  {
   "cell_type": "code",
   "execution_count": 8,
   "id": "artistic-louisville",
   "metadata": {},
   "outputs": [
    {
     "data": {
      "text/plain": [
       "(<PIL.Image.Image image mode=L size=28x28 at 0x10BF222E0>, 5)"
      ]
     },
     "execution_count": 8,
     "metadata": {},
     "output_type": "execute_result"
    }
   ],
   "source": [
    "dataset[0]"
   ]
  },
  {
   "cell_type": "markdown",
   "id": "consistent-tourism",
   "metadata": {},
   "source": [
    "28 x 28 image. PIL is python image library"
   ]
  },
  {
   "cell_type": "code",
   "execution_count": 9,
   "id": "ambient-titanium",
   "metadata": {},
   "outputs": [],
   "source": [
    "image, label = dataset[0]"
   ]
  },
  {
   "cell_type": "code",
   "execution_count": 10,
   "id": "subtle-tongue",
   "metadata": {},
   "outputs": [
    {
     "name": "stdout",
     "output_type": "stream",
     "text": [
      "Label:  5\n"
     ]
    },
    {
     "data": {
      "image/png": "[encoded data removed]",
      "text/plain": [
       "<Figure size 432x288 with 1 Axes>"
      ]
     },
     "metadata": {
      "needs_background": "light"
     },
     "output_type": "display_data"
    }
   ],
   "source": [
    "%matplotlib inline\n",
    "plt.imshow(image, cmap='gray')\n",
    "print(\"Label: \", label)"
   ]
  },
  {
   "cell_type": "code",
   "execution_count": 11,
   "id": "continued-screening",
   "metadata": {},
   "outputs": [
    {
     "name": "stdout",
     "output_type": "stream",
     "text": [
      "Label:  0\n"
     ]
    },
    {
     "data": {
      "image/png": "[encoded data removed]",
      "text/plain": [
       "<Figure size 432x288 with 1 Axes>"
      ]
     },
     "metadata": {
      "needs_background": "light"
     },
     "output_type": "display_data"
    }
   ],
   "source": [
    "image, label = dataset[1]\n",
    "plt.imshow(image, cmap='gray')\n",
    "print(\"Label: \", label)"
   ]
  },
  {
   "cell_type": "code",
   "execution_count": 12,
   "id": "encouraging-temperature",
   "metadata": {},
   "outputs": [
    {
     "data": {
      "text/plain": [
       "PIL.Image.Image"
      ]
     },
     "execution_count": 12,
     "metadata": {},
     "output_type": "execute_result"
    }
   ],
   "source": [
    "type(image)"
   ]
  },
  {
   "cell_type": "code",
   "execution_count": 13,
   "id": "curious-assembly",
   "metadata": {},
   "outputs": [
    {
     "data": {
      "text/plain": [
       "array([[  0,   0,   0,   0,   0,   0,   0,   0,   0,   0,   0,   0,   0,\n",
       "          0,   0,   0,   0,   0,   0,   0,   0,   0,   0,   0,   0,   0,\n",
       "          0,   0],\n",
       "       [  0,   0,   0,   0,   0,   0,   0,   0,   0,   0,   0,   0,   0,\n",
       "          0,   0,   0,   0,   0,   0,   0,   0,   0,   0,   0,   0,   0,\n",
       "          0,   0],\n",
       "       [  0,   0,   0,   0,   0,   0,   0,   0,   0,   0,   0,   0,   0,\n",
       "          0,   0,   0,   0,   0,   0,   0,   0,   0,   0,   0,   0,   0,\n",
       "          0,   0],\n",
       "       [  0,   0,   0,   0,   0,   0,   0,   0,   0,   0,   0,   0,   0,\n",
       "          0,   0,   0,   0,   0,   0,   0,   0,   0,   0,   0,   0,   0,\n",
       "          0,   0],\n",
       "       [  0,   0,   0,   0,   0,   0,   0,   0,   0,   0,   0,   0,   0,\n",
       "          0,   0,  51, 159, 253, 159,  50,   0,   0,   0,   0,   0,   0,\n",
       "          0,   0],\n",
       "       [  0,   0,   0,   0,   0,   0,   0,   0,   0,   0,   0,   0,   0,\n",
       "          0,  48, 238, 252, 252, 252, 237,   0,   0,   0,   0,   0,   0,\n",
       "          0,   0],\n",
       "       [  0,   0,   0,   0,   0,   0,   0,   0,   0,   0,   0,   0,   0,\n",
       "         54, 227, 253, 252, 239, 233, 252,  57,   6,   0,   0,   0,   0,\n",
       "          0,   0],\n",
       "       [  0,   0,   0,   0,   0,   0,   0,   0,   0,   0,   0,  10,  60,\n",
       "        224, 252, 253, 252, 202,  84, 252, 253, 122,   0,   0,   0,   0,\n",
       "          0,   0],\n",
       "       [  0,   0,   0,   0,   0,   0,   0,   0,   0,   0,   0, 163, 252,\n",
       "        252, 252, 253, 252, 252,  96, 189, 253, 167,   0,   0,   0,   0,\n",
       "          0,   0],\n",
       "       [  0,   0,   0,   0,   0,   0,   0,   0,   0,   0,  51, 238, 253,\n",
       "        253, 190, 114, 253, 228,  47,  79, 255, 168,   0,   0,   0,   0,\n",
       "          0,   0],\n",
       "       [  0,   0,   0,   0,   0,   0,   0,   0,   0,  48, 238, 252, 252,\n",
       "        179,  12,  75, 121,  21,   0,   0, 253, 243,  50,   0,   0,   0,\n",
       "          0,   0],\n",
       "       [  0,   0,   0,   0,   0,   0,   0,   0,  38, 165, 253, 233, 208,\n",
       "         84,   0,   0,   0,   0,   0,   0, 253, 252, 165,   0,   0,   0,\n",
       "          0,   0],\n",
       "       [  0,   0,   0,   0,   0,   0,   0,   7, 178, 252, 240,  71,  19,\n",
       "         28,   0,   0,   0,   0,   0,   0, 253, 252, 195,   0,   0,   0,\n",
       "          0,   0],\n",
       "       [  0,   0,   0,   0,   0,   0,   0,  57, 252, 252,  63,   0,   0,\n",
       "          0,   0,   0,   0,   0,   0,   0, 253, 252, 195,   0,   0,   0,\n",
       "          0,   0],\n",
       "       [  0,   0,   0,   0,   0,   0,   0, 198, 253, 190,   0,   0,   0,\n",
       "          0,   0,   0,   0,   0,   0,   0, 255, 253, 196,   0,   0,   0,\n",
       "          0,   0],\n",
       "       [  0,   0,   0,   0,   0,   0,  76, 246, 252, 112,   0,   0,   0,\n",
       "          0,   0,   0,   0,   0,   0,   0, 253, 252, 148,   0,   0,   0,\n",
       "          0,   0],\n",
       "       [  0,   0,   0,   0,   0,   0,  85, 252, 230,  25,   0,   0,   0,\n",
       "          0,   0,   0,   0,   0,   7, 135, 253, 186,  12,   0,   0,   0,\n",
       "          0,   0],\n",
       "       [  0,   0,   0,   0,   0,   0,  85, 252, 223,   0,   0,   0,   0,\n",
       "          0,   0,   0,   0,   7, 131, 252, 225,  71,   0,   0,   0,   0,\n",
       "          0,   0],\n",
       "       [  0,   0,   0,   0,   0,   0,  85, 252, 145,   0,   0,   0,   0,\n",
       "          0,   0,   0,  48, 165, 252, 173,   0,   0,   0,   0,   0,   0,\n",
       "          0,   0],\n",
       "       [  0,   0,   0,   0,   0,   0,  86, 253, 225,   0,   0,   0,   0,\n",
       "          0,   0, 114, 238, 253, 162,   0,   0,   0,   0,   0,   0,   0,\n",
       "          0,   0],\n",
       "       [  0,   0,   0,   0,   0,   0,  85, 252, 249, 146,  48,  29,  85,\n",
       "        178, 225, 253, 223, 167,  56,   0,   0,   0,   0,   0,   0,   0,\n",
       "          0,   0],\n",
       "       [  0,   0,   0,   0,   0,   0,  85, 252, 252, 252, 229, 215, 252,\n",
       "        252, 252, 196, 130,   0,   0,   0,   0,   0,   0,   0,   0,   0,\n",
       "          0,   0],\n",
       "       [  0,   0,   0,   0,   0,   0,  28, 199, 252, 252, 253, 252, 252,\n",
       "        233, 145,   0,   0,   0,   0,   0,   0,   0,   0,   0,   0,   0,\n",
       "          0,   0],\n",
       "       [  0,   0,   0,   0,   0,   0,   0,  25, 128, 252, 253, 252, 141,\n",
       "         37,   0,   0,   0,   0,   0,   0,   0,   0,   0,   0,   0,   0,\n",
       "          0,   0],\n",
       "       [  0,   0,   0,   0,   0,   0,   0,   0,   0,   0,   0,   0,   0,\n",
       "          0,   0,   0,   0,   0,   0,   0,   0,   0,   0,   0,   0,   0,\n",
       "          0,   0],\n",
       "       [  0,   0,   0,   0,   0,   0,   0,   0,   0,   0,   0,   0,   0,\n",
       "          0,   0,   0,   0,   0,   0,   0,   0,   0,   0,   0,   0,   0,\n",
       "          0,   0],\n",
       "       [  0,   0,   0,   0,   0,   0,   0,   0,   0,   0,   0,   0,   0,\n",
       "          0,   0,   0,   0,   0,   0,   0,   0,   0,   0,   0,   0,   0,\n",
       "          0,   0],\n",
       "       [  0,   0,   0,   0,   0,   0,   0,   0,   0,   0,   0,   0,   0,\n",
       "          0,   0,   0,   0,   0,   0,   0,   0,   0,   0,   0,   0,   0,\n",
       "          0,   0]], dtype=uint8)"
      ]
     },
     "execution_count": 13,
     "metadata": {},
     "output_type": "execute_result"
    }
   ],
   "source": [
    "img_np = np.array(image)\n",
    "img_np"
   ]
  },
  {
   "cell_type": "code",
   "execution_count": 14,
   "id": "novel-progress",
   "metadata": {},
   "outputs": [
    {
     "data": {
      "text/plain": [
       "tensor([[  0,   0,   0,   0,   0,   0,   0,   0,   0,   0,   0,   0,   0,   0,\n",
       "           0,   0,   0,   0,   0,   0,   0,   0,   0,   0,   0,   0,   0,   0],\n",
       "        [  0,   0,   0,   0,   0,   0,   0,   0,   0,   0,   0,   0,   0,   0,\n",
       "           0,   0,   0,   0,   0,   0,   0,   0,   0,   0,   0,   0,   0,   0],\n",
       "        [  0,   0,   0,   0,   0,   0,   0,   0,   0,   0,   0,   0,   0,   0,\n",
       "           0,   0,   0,   0,   0,   0,   0,   0,   0,   0,   0,   0,   0,   0],\n",
       "        [  0,   0,   0,   0,   0,   0,   0,   0,   0,   0,   0,   0,   0,   0,\n",
       "           0,   0,   0,   0,   0,   0,   0,   0,   0,   0,   0,   0,   0,   0],\n",
       "        [  0,   0,   0,   0,   0,   0,   0,   0,   0,   0,   0,   0,   0,   0,\n",
       "           0,  51, 159, 253, 159,  50,   0,   0,   0,   0,   0,   0,   0,   0],\n",
       "        [  0,   0,   0,   0,   0,   0,   0,   0,   0,   0,   0,   0,   0,   0,\n",
       "          48, 238, 252, 252, 252, 237,   0,   0,   0,   0,   0,   0,   0,   0],\n",
       "        [  0,   0,   0,   0,   0,   0,   0,   0,   0,   0,   0,   0,   0,  54,\n",
       "         227, 253, 252, 239, 233, 252,  57,   6,   0,   0,   0,   0,   0,   0],\n",
       "        [  0,   0,   0,   0,   0,   0,   0,   0,   0,   0,   0,  10,  60, 224,\n",
       "         252, 253, 252, 202,  84, 252, 253, 122,   0,   0,   0,   0,   0,   0],\n",
       "        [  0,   0,   0,   0,   0,   0,   0,   0,   0,   0,   0, 163, 252, 252,\n",
       "         252, 253, 252, 252,  96, 189, 253, 167,   0,   0,   0,   0,   0,   0],\n",
       "        [  0,   0,   0,   0,   0,   0,   0,   0,   0,   0,  51, 238, 253, 253,\n",
       "         190, 114, 253, 228,  47,  79, 255, 168,   0,   0,   0,   0,   0,   0],\n",
       "        [  0,   0,   0,   0,   0,   0,   0,   0,   0,  48, 238, 252, 252, 179,\n",
       "          12,  75, 121,  21,   0,   0, 253, 243,  50,   0,   0,   0,   0,   0],\n",
       "        [  0,   0,   0,   0,   0,   0,   0,   0,  38, 165, 253, 233, 208,  84,\n",
       "           0,   0,   0,   0,   0,   0, 253, 252, 165,   0,   0,   0,   0,   0],\n",
       "        [  0,   0,   0,   0,   0,   0,   0,   7, 178, 252, 240,  71,  19,  28,\n",
       "           0,   0,   0,   0,   0,   0, 253, 252, 195,   0,   0,   0,   0,   0],\n",
       "        [  0,   0,   0,   0,   0,   0,   0,  57, 252, 252,  63,   0,   0,   0,\n",
       "           0,   0,   0,   0,   0,   0, 253, 252, 195,   0,   0,   0,   0,   0],\n",
       "        [  0,   0,   0,   0,   0,   0,   0, 198, 253, 190,   0,   0,   0,   0,\n",
       "           0,   0,   0,   0,   0,   0, 255, 253, 196,   0,   0,   0,   0,   0],\n",
       "        [  0,   0,   0,   0,   0,   0,  76, 246, 252, 112,   0,   0,   0,   0,\n",
       "           0,   0,   0,   0,   0,   0, 253, 252, 148,   0,   0,   0,   0,   0],\n",
       "        [  0,   0,   0,   0,   0,   0,  85, 252, 230,  25,   0,   0,   0,   0,\n",
       "           0,   0,   0,   0,   7, 135, 253, 186,  12,   0,   0,   0,   0,   0],\n",
       "        [  0,   0,   0,   0,   0,   0,  85, 252, 223,   0,   0,   0,   0,   0,\n",
       "           0,   0,   0,   7, 131, 252, 225,  71,   0,   0,   0,   0,   0,   0],\n",
       "        [  0,   0,   0,   0,   0,   0,  85, 252, 145,   0,   0,   0,   0,   0,\n",
       "           0,   0,  48, 165, 252, 173,   0,   0,   0,   0,   0,   0,   0,   0],\n",
       "        [  0,   0,   0,   0,   0,   0,  86, 253, 225,   0,   0,   0,   0,   0,\n",
       "           0, 114, 238, 253, 162,   0,   0,   0,   0,   0,   0,   0,   0,   0],\n",
       "        [  0,   0,   0,   0,   0,   0,  85, 252, 249, 146,  48,  29,  85, 178,\n",
       "         225, 253, 223, 167,  56,   0,   0,   0,   0,   0,   0,   0,   0,   0],\n",
       "        [  0,   0,   0,   0,   0,   0,  85, 252, 252, 252, 229, 215, 252, 252,\n",
       "         252, 196, 130,   0,   0,   0,   0,   0,   0,   0,   0,   0,   0,   0],\n",
       "        [  0,   0,   0,   0,   0,   0,  28, 199, 252, 252, 253, 252, 252, 233,\n",
       "         145,   0,   0,   0,   0,   0,   0,   0,   0,   0,   0,   0,   0,   0],\n",
       "        [  0,   0,   0,   0,   0,   0,   0,  25, 128, 252, 253, 252, 141,  37,\n",
       "           0,   0,   0,   0,   0,   0,   0,   0,   0,   0,   0,   0,   0,   0],\n",
       "        [  0,   0,   0,   0,   0,   0,   0,   0,   0,   0,   0,   0,   0,   0,\n",
       "           0,   0,   0,   0,   0,   0,   0,   0,   0,   0,   0,   0,   0,   0],\n",
       "        [  0,   0,   0,   0,   0,   0,   0,   0,   0,   0,   0,   0,   0,   0,\n",
       "           0,   0,   0,   0,   0,   0,   0,   0,   0,   0,   0,   0,   0,   0],\n",
       "        [  0,   0,   0,   0,   0,   0,   0,   0,   0,   0,   0,   0,   0,   0,\n",
       "           0,   0,   0,   0,   0,   0,   0,   0,   0,   0,   0,   0,   0,   0],\n",
       "        [  0,   0,   0,   0,   0,   0,   0,   0,   0,   0,   0,   0,   0,   0,\n",
       "           0,   0,   0,   0,   0,   0,   0,   0,   0,   0,   0,   0,   0,   0]],\n",
       "       dtype=torch.uint8)"
      ]
     },
     "execution_count": 14,
     "metadata": {},
     "output_type": "execute_result"
    }
   ],
   "source": [
    "img_ts = torch.from_numpy(img_np) \n",
    "img_ts"
   ]
  },
  {
   "cell_type": "code",
   "execution_count": 15,
   "id": "lucky-satin",
   "metadata": {},
   "outputs": [],
   "source": [
    "dataset_np = []\n",
    "dataset_label_np = []\n",
    "## Convert to tensor\n",
    "for image, label in dataset:\n",
    "    img_np = np.array(image)\n",
    "    dataset_np.append(img_np.astype(np.float32))\n",
    "    dataset_label_np.append(int(label))\n",
    "    \n",
    "dataset_np = np.array(dataset_np)\n",
    "dataset_label_np = np.array(dataset_label_np)\n",
    "    "
   ]
  },
  {
   "cell_type": "code",
   "execution_count": 16,
   "id": "sought-miller",
   "metadata": {},
   "outputs": [
    {
     "name": "stdout",
     "output_type": "stream",
     "text": [
      "60000\n",
      "60000\n"
     ]
    }
   ],
   "source": [
    "print(len(dataset_np))\n",
    "print(len(dataset_label_np))"
   ]
  },
  {
   "cell_type": "code",
   "execution_count": 17,
   "id": "strategic-excerpt",
   "metadata": {},
   "outputs": [
    {
     "data": {
      "text/plain": [
       "(numpy.ndarray, numpy.ndarray)"
      ]
     },
     "execution_count": 17,
     "metadata": {},
     "output_type": "execute_result"
    }
   ],
   "source": [
    "type(dataset_np), type(dataset_label_np)"
   ]
  },
  {
   "cell_type": "markdown",
   "id": "through-independence",
   "metadata": {},
   "source": [
    "Other way - use transformers"
   ]
  },
  {
   "cell_type": "code",
   "execution_count": 18,
   "id": "intense-civilization",
   "metadata": {},
   "outputs": [],
   "source": [
    "import torchvision.transforms as transforms\n",
    "dataset = MNIST(root = \".data/\", download = True, transform = transforms.ToTensor())"
   ]
  },
  {
   "cell_type": "code",
   "execution_count": 19,
   "id": "european-relay",
   "metadata": {},
   "outputs": [
    {
     "name": "stdout",
     "output_type": "stream",
     "text": [
      "torch.Size([1, 28, 28]) 5\n"
     ]
    }
   ],
   "source": [
    "img_tensor, label = dataset[0]\n",
    "print(img_tensor.shape, label)"
   ]
  },
  {
   "cell_type": "code",
   "execution_count": 20,
   "id": "hundred-stephen",
   "metadata": {},
   "outputs": [
    {
     "data": {
      "text/plain": [
       "<matplotlib.image.AxesImage at 0x13b34ad00>"
      ]
     },
     "execution_count": 20,
     "metadata": {},
     "output_type": "execute_result"
    },
    {
     "data": {
      "image/png": "[encoded data removed]",
      "text/plain": [
       "<Figure size 432x288 with 1 Axes>"
      ]
     },
     "metadata": {
      "needs_background": "light"
     },
     "output_type": "display_data"
    }
   ],
   "source": [
    "plt.imshow(img_tensor[0, :, :], cmap = 'gray')"
   ]
  },
  {
   "cell_type": "code",
   "execution_count": 21,
   "id": "painful-suffering",
   "metadata": {},
   "outputs": [
    {
     "data": {
      "text/plain": [
       "<matplotlib.image.AxesImage at 0x13b37a1f0>"
      ]
     },
     "execution_count": 21,
     "metadata": {},
     "output_type": "execute_result"
    },
    {
     "data": {
      "image/png": "[encoded data removed]",
      "text/plain": [
       "<Figure size 432x288 with 1 Axes>"
      ]
     },
     "metadata": {
      "needs_background": "light"
     },
     "output_type": "display_data"
    }
   ],
   "source": [
    "plt.imshow(img_tensor[0, 10:20, 10:20], cmap = 'gray')"
   ]
  },
  {
   "cell_type": "markdown",
   "id": "scenic-reference",
   "metadata": {},
   "source": [
    "# Data Split - Train Validation Split"
   ]
  },
  {
   "cell_type": "code",
   "execution_count": 22,
   "id": "subtle-column",
   "metadata": {},
   "outputs": [],
   "source": [
    "def split_indices(n, val_pct):\n",
    "    idx = np.random.permutation(n) #random numbers between 0 and the n given\n",
    "    n_val = int(n * val_pct)\n",
    "    idx_train = idx[n_val:]\n",
    "    idx_val = idx[:n_val]\n",
    "    return idx_train, idx_val"
   ]
  },
  {
   "cell_type": "code",
   "execution_count": 23,
   "id": "centered-dating",
   "metadata": {},
   "outputs": [],
   "source": [
    "train_indices, val_indices = split_indices(len(dataset_np), val_pct = 0.2)"
   ]
  },
  {
   "cell_type": "code",
   "execution_count": 24,
   "id": "royal-contrast",
   "metadata": {},
   "outputs": [
    {
     "data": {
      "text/plain": [
       "(array([24486, 10216, 58875, ..., 35687, 46080, 10341]),\n",
       " (48000,),\n",
       " array([22188, 14248, 33293, ..., 38823, 35168,  5448]),\n",
       " (12000,))"
      ]
     },
     "execution_count": 24,
     "metadata": {},
     "output_type": "execute_result"
    }
   ],
   "source": [
    "train_indices, train_indices.shape, val_indices, val_indices.shape"
   ]
  },
  {
   "cell_type": "code",
   "execution_count": 25,
   "id": "annoying-ensemble",
   "metadata": {},
   "outputs": [],
   "source": [
    "from torch.utils.data.sampler import SubsetRandomSampler\n",
    "from torch.utils.data.dataloader import DataLoader\n",
    "from torch.utils.data import TensorDataset"
   ]
  },
  {
   "cell_type": "code",
   "execution_count": 26,
   "id": "electoral-london",
   "metadata": {},
   "outputs": [
    {
     "data": {
      "text/plain": [
       "((60000, 28, 28), numpy.ndarray, (60000,), numpy.ndarray, 5)"
      ]
     },
     "execution_count": 26,
     "metadata": {},
     "output_type": "execute_result"
    }
   ],
   "source": [
    "dataset_np.shape, type(dataset_np), dataset_label_np.shape, type(dataset_label_np), dataset_label_np[0]"
   ]
  },
  {
   "cell_type": "code",
   "execution_count": 27,
   "id": "announced-reach",
   "metadata": {},
   "outputs": [],
   "source": [
    "dataset_ts = torch.from_numpy(dataset_np)\n",
    "dataset_label_ts = torch.from_numpy(dataset_label_np)\n",
    "dataset = TensorDataset(dataset_ts, dataset_label_ts )"
   ]
  },
  {
   "cell_type": "code",
   "execution_count": 68,
   "id": "seven-professional",
   "metadata": {},
   "outputs": [],
   "source": [
    "batch_size = 500\n",
    "train_sampler = SubsetRandomSampler(train_indices) # taking the train indices and use only those for sampling\n",
    "train_loader = DataLoader(dataset, batch_size, sampler = train_sampler)\n",
    "\n",
    "val_sampler = SubsetRandomSampler(val_indices) # taking the val indices and use only those for sampling\n",
    "val_loader = DataLoader(dataset, batch_size, sampler = val_sampler)"
   ]
  },
  {
   "cell_type": "markdown",
   "id": "instrumental-assembly",
   "metadata": {},
   "source": [
    "# Model - Logistic Regression"
   ]
  },
  {
   "cell_type": "markdown",
   "id": "elementary-longitude",
   "metadata": {},
   "source": [
    "nn.Linear  - the linear layer will have ```10``` neurons (since we want to predict values between ```0``` to ```9``` and it will have ```1 x 28 x 28``` features for each observation. So the dimension of the nn Linear layer is 28 * 28 = 784 x 10 dimensions "
   ]
  },
  {
   "cell_type": "code",
   "execution_count": 69,
   "id": "packed-science",
   "metadata": {},
   "outputs": [],
   "source": [
    "import torch.nn as nn\n",
    "\n",
    "input_size = 28*28\n",
    "num_classes = 10\n",
    "\n",
    "model = nn.Linear(input_size, num_classes)"
   ]
  },
  {
   "cell_type": "code",
   "execution_count": 70,
   "id": "extensive-salem",
   "metadata": {},
   "outputs": [
    {
     "name": "stdout",
     "output_type": "stream",
     "text": [
      "torch.Size([10, 784])\n",
      "torch.Size([10])\n"
     ]
    },
    {
     "data": {
      "text/plain": [
       "(None, None)"
      ]
     },
     "execution_count": 70,
     "metadata": {},
     "output_type": "execute_result"
    }
   ],
   "source": [
    "print(model.weight.shape), print(model.bias.shape)"
   ]
  },
  {
   "cell_type": "code",
   "execution_count": 71,
   "id": "aging-dressing",
   "metadata": {},
   "outputs": [
    {
     "name": "stdout",
     "output_type": "stream",
     "text": [
      "tensor([7, 7, 7, 2, 2, 3, 8, 7, 1, 7, 0, 8, 7, 7, 1, 2, 4, 6, 4, 7, 1, 2, 7, 6,\n",
      "        2, 1, 4, 1, 6, 9, 2, 8, 1, 2, 1, 7, 3, 5, 8, 7, 0, 4, 1, 0, 8, 2, 0, 6,\n",
      "        4, 2, 9, 1, 3, 5, 7, 3, 1, 5, 8, 0, 1, 1, 3, 4, 2, 0, 4, 3, 1, 3, 9, 0,\n",
      "        2, 6, 8, 0, 2, 4, 7, 6, 3, 5, 2, 3, 8, 4, 8, 5, 6, 4, 4, 8, 8, 7, 0, 9,\n",
      "        3, 9, 5, 0, 6, 9, 9, 2, 7, 7, 7, 0, 0, 4, 9, 3, 4, 5, 9, 3, 2, 7, 6, 1,\n",
      "        1, 9, 7, 5, 8, 0, 9, 4, 7, 9, 4, 3, 7, 6, 2, 9, 5, 3, 1, 1, 3, 9, 4, 7,\n",
      "        4, 7, 3, 4, 7, 3, 5, 5, 9, 8, 7, 4, 1, 9, 3, 4, 1, 7, 6, 1, 6, 0, 3, 5,\n",
      "        3, 2, 1, 9, 5, 3, 9, 7, 1, 6, 3, 6, 2, 1, 8, 7, 9, 4, 3, 0, 1, 3, 7, 2,\n",
      "        3, 5, 6, 8, 0, 6, 3, 6, 9, 2, 3, 2, 6, 4, 1, 5, 6, 4, 2, 3, 4, 1, 6, 6,\n",
      "        9, 4, 6, 3, 6, 7, 0, 4, 9, 6, 4, 4, 4, 6, 2, 4, 2, 4, 3, 7, 4, 5, 2, 7,\n",
      "        1, 2, 3, 4, 3, 1, 8, 1, 2, 5, 1, 7, 1, 4, 1, 6, 3, 6, 1, 9, 1, 6, 4, 6,\n",
      "        4, 6, 0, 9, 4, 2, 8, 5, 4, 7, 6, 7, 7, 4, 1, 0, 3, 8, 8, 0, 3, 5, 3, 2,\n",
      "        8, 7, 7, 8, 5, 7, 1, 9, 1, 9, 8, 3, 2, 1, 4, 5, 2, 6, 4, 4, 1, 5, 8, 9,\n",
      "        2, 5, 1, 5, 5, 7, 0, 2, 5, 1, 4, 2, 9, 9, 6, 9, 5, 6, 6, 1, 8, 2, 7, 4,\n",
      "        6, 5, 6, 3, 4, 2, 8, 5, 8, 8, 6, 2, 9, 9, 9, 3, 2, 1, 3, 0, 0, 6, 0, 8,\n",
      "        1, 9, 0, 6, 7, 4, 2, 3, 6, 1, 6, 0, 8, 7, 3, 1, 2, 4, 3, 4, 9, 4, 6, 2,\n",
      "        8, 5, 2, 1, 3, 4, 2, 9, 4, 0, 5, 8, 9, 1, 5, 3, 7, 3, 7, 3, 2, 9, 3, 2,\n",
      "        0, 6, 6, 3, 7, 5, 8, 6, 5, 1, 1, 7, 1, 0, 2, 2, 3, 5, 9, 2, 2, 8, 0, 9,\n",
      "        0, 7, 0, 7, 6, 4, 6, 4, 8, 7, 1, 8, 4, 5, 1, 7, 8, 9, 5, 0, 3, 1, 0, 6,\n",
      "        3, 4, 5, 8, 6, 6, 4, 7, 5, 7, 4, 3, 7, 4, 8, 1, 7, 1, 1, 4, 8, 7, 5, 3,\n",
      "        7, 0, 2, 6, 9, 1, 7, 4, 1, 0, 6, 2, 1, 9, 1, 8, 5, 4, 1, 9])\n",
      "torch.Size([500, 28, 28])\n"
     ]
    },
    {
     "ename": "RuntimeError",
     "evalue": "mat1 and mat2 shapes cannot be multiplied (14000x28 and 784x10)",
     "output_type": "error",
     "traceback": [
      "\u001b[0;31m---------------------------------------------------------------------------\u001b[0m",
      "\u001b[0;31mRuntimeError\u001b[0m                              Traceback (most recent call last)",
      "\u001b[0;32m<ipython-input-71-72eddc737460>\u001b[0m in \u001b[0;36m<module>\u001b[0;34m\u001b[0m\n\u001b[1;32m      2\u001b[0m     \u001b[0mprint\u001b[0m\u001b[0;34m(\u001b[0m\u001b[0mlabels\u001b[0m\u001b[0;34m)\u001b[0m\u001b[0;34m\u001b[0m\u001b[0;34m\u001b[0m\u001b[0m\n\u001b[1;32m      3\u001b[0m     \u001b[0mprint\u001b[0m\u001b[0;34m(\u001b[0m\u001b[0mimages\u001b[0m\u001b[0;34m.\u001b[0m\u001b[0mshape\u001b[0m\u001b[0;34m)\u001b[0m\u001b[0;34m\u001b[0m\u001b[0;34m\u001b[0m\u001b[0m\n\u001b[0;32m----> 4\u001b[0;31m     \u001b[0moutputs\u001b[0m \u001b[0;34m=\u001b[0m \u001b[0mmodel\u001b[0m\u001b[0;34m(\u001b[0m\u001b[0mimages\u001b[0m\u001b[0;34m)\u001b[0m\u001b[0;34m\u001b[0m\u001b[0;34m\u001b[0m\u001b[0m\n\u001b[0m\u001b[1;32m      5\u001b[0m     \u001b[0;32mbreak\u001b[0m\u001b[0;34m\u001b[0m\u001b[0;34m\u001b[0m\u001b[0m\n",
      "\u001b[0;32m~/.pyenv/versions/3.8.1/Python.framework/Versions/3.8/lib/python3.8/site-packages/torch/nn/modules/module.py\u001b[0m in \u001b[0;36m_call_impl\u001b[0;34m(self, *input, **kwargs)\u001b[0m\n\u001b[1;32m    887\u001b[0m             \u001b[0mresult\u001b[0m \u001b[0;34m=\u001b[0m \u001b[0mself\u001b[0m\u001b[0;34m.\u001b[0m\u001b[0m_slow_forward\u001b[0m\u001b[0;34m(\u001b[0m\u001b[0;34m*\u001b[0m\u001b[0minput\u001b[0m\u001b[0;34m,\u001b[0m \u001b[0;34m**\u001b[0m\u001b[0mkwargs\u001b[0m\u001b[0;34m)\u001b[0m\u001b[0;34m\u001b[0m\u001b[0;34m\u001b[0m\u001b[0m\n\u001b[1;32m    888\u001b[0m         \u001b[0;32melse\u001b[0m\u001b[0;34m:\u001b[0m\u001b[0;34m\u001b[0m\u001b[0;34m\u001b[0m\u001b[0m\n\u001b[0;32m--> 889\u001b[0;31m             \u001b[0mresult\u001b[0m \u001b[0;34m=\u001b[0m \u001b[0mself\u001b[0m\u001b[0;34m.\u001b[0m\u001b[0mforward\u001b[0m\u001b[0;34m(\u001b[0m\u001b[0;34m*\u001b[0m\u001b[0minput\u001b[0m\u001b[0;34m,\u001b[0m \u001b[0;34m**\u001b[0m\u001b[0mkwargs\u001b[0m\u001b[0;34m)\u001b[0m\u001b[0;34m\u001b[0m\u001b[0;34m\u001b[0m\u001b[0m\n\u001b[0m\u001b[1;32m    890\u001b[0m         for hook in itertools.chain(\n\u001b[1;32m    891\u001b[0m                 \u001b[0m_global_forward_hooks\u001b[0m\u001b[0;34m.\u001b[0m\u001b[0mvalues\u001b[0m\u001b[0;34m(\u001b[0m\u001b[0;34m)\u001b[0m\u001b[0;34m,\u001b[0m\u001b[0;34m\u001b[0m\u001b[0;34m\u001b[0m\u001b[0m\n",
      "\u001b[0;32m~/.pyenv/versions/3.8.1/Python.framework/Versions/3.8/lib/python3.8/site-packages/torch/nn/modules/linear.py\u001b[0m in \u001b[0;36mforward\u001b[0;34m(self, input)\u001b[0m\n\u001b[1;32m     92\u001b[0m \u001b[0;34m\u001b[0m\u001b[0m\n\u001b[1;32m     93\u001b[0m     \u001b[0;32mdef\u001b[0m \u001b[0mforward\u001b[0m\u001b[0;34m(\u001b[0m\u001b[0mself\u001b[0m\u001b[0;34m,\u001b[0m \u001b[0minput\u001b[0m\u001b[0;34m:\u001b[0m \u001b[0mTensor\u001b[0m\u001b[0;34m)\u001b[0m \u001b[0;34m->\u001b[0m \u001b[0mTensor\u001b[0m\u001b[0;34m:\u001b[0m\u001b[0;34m\u001b[0m\u001b[0;34m\u001b[0m\u001b[0m\n\u001b[0;32m---> 94\u001b[0;31m         \u001b[0;32mreturn\u001b[0m \u001b[0mF\u001b[0m\u001b[0;34m.\u001b[0m\u001b[0mlinear\u001b[0m\u001b[0;34m(\u001b[0m\u001b[0minput\u001b[0m\u001b[0;34m,\u001b[0m \u001b[0mself\u001b[0m\u001b[0;34m.\u001b[0m\u001b[0mweight\u001b[0m\u001b[0;34m,\u001b[0m \u001b[0mself\u001b[0m\u001b[0;34m.\u001b[0m\u001b[0mbias\u001b[0m\u001b[0;34m)\u001b[0m\u001b[0;34m\u001b[0m\u001b[0;34m\u001b[0m\u001b[0m\n\u001b[0m\u001b[1;32m     95\u001b[0m \u001b[0;34m\u001b[0m\u001b[0m\n\u001b[1;32m     96\u001b[0m     \u001b[0;32mdef\u001b[0m \u001b[0mextra_repr\u001b[0m\u001b[0;34m(\u001b[0m\u001b[0mself\u001b[0m\u001b[0;34m)\u001b[0m \u001b[0;34m->\u001b[0m \u001b[0mstr\u001b[0m\u001b[0;34m:\u001b[0m\u001b[0;34m\u001b[0m\u001b[0;34m\u001b[0m\u001b[0m\n",
      "\u001b[0;32m~/.pyenv/versions/3.8.1/Python.framework/Versions/3.8/lib/python3.8/site-packages/torch/nn/functional.py\u001b[0m in \u001b[0;36mlinear\u001b[0;34m(input, weight, bias)\u001b[0m\n\u001b[1;32m   1751\u001b[0m     \u001b[0;32mif\u001b[0m \u001b[0mhas_torch_function_variadic\u001b[0m\u001b[0;34m(\u001b[0m\u001b[0minput\u001b[0m\u001b[0;34m,\u001b[0m \u001b[0mweight\u001b[0m\u001b[0;34m)\u001b[0m\u001b[0;34m:\u001b[0m\u001b[0;34m\u001b[0m\u001b[0;34m\u001b[0m\u001b[0m\n\u001b[1;32m   1752\u001b[0m         \u001b[0;32mreturn\u001b[0m \u001b[0mhandle_torch_function\u001b[0m\u001b[0;34m(\u001b[0m\u001b[0mlinear\u001b[0m\u001b[0;34m,\u001b[0m \u001b[0;34m(\u001b[0m\u001b[0minput\u001b[0m\u001b[0;34m,\u001b[0m \u001b[0mweight\u001b[0m\u001b[0;34m)\u001b[0m\u001b[0;34m,\u001b[0m \u001b[0minput\u001b[0m\u001b[0;34m,\u001b[0m \u001b[0mweight\u001b[0m\u001b[0;34m,\u001b[0m \u001b[0mbias\u001b[0m\u001b[0;34m=\u001b[0m\u001b[0mbias\u001b[0m\u001b[0;34m)\u001b[0m\u001b[0;34m\u001b[0m\u001b[0;34m\u001b[0m\u001b[0m\n\u001b[0;32m-> 1753\u001b[0;31m     \u001b[0;32mreturn\u001b[0m \u001b[0mtorch\u001b[0m\u001b[0;34m.\u001b[0m\u001b[0m_C\u001b[0m\u001b[0;34m.\u001b[0m\u001b[0m_nn\u001b[0m\u001b[0;34m.\u001b[0m\u001b[0mlinear\u001b[0m\u001b[0;34m(\u001b[0m\u001b[0minput\u001b[0m\u001b[0;34m,\u001b[0m \u001b[0mweight\u001b[0m\u001b[0;34m,\u001b[0m \u001b[0mbias\u001b[0m\u001b[0;34m)\u001b[0m\u001b[0;34m\u001b[0m\u001b[0;34m\u001b[0m\u001b[0m\n\u001b[0m\u001b[1;32m   1754\u001b[0m \u001b[0;34m\u001b[0m\u001b[0m\n\u001b[1;32m   1755\u001b[0m \u001b[0;34m\u001b[0m\u001b[0m\n",
      "\u001b[0;31mRuntimeError\u001b[0m: mat1 and mat2 shapes cannot be multiplied (14000x28 and 784x10)"
     ]
    }
   ],
   "source": [
    "for images, labels in train_loader:\n",
    "    print(labels)\n",
    "    print(images.shape)\n",
    "    outputs = model(images)\n",
    "    break"
   ]
  },
  {
   "cell_type": "markdown",
   "id": "specified-thread",
   "metadata": {},
   "source": [
    "This leads to an error because of image shape"
   ]
  },
  {
   "cell_type": "code",
   "execution_count": 121,
   "id": "fiscal-quality",
   "metadata": {},
   "outputs": [],
   "source": [
    "class MNISTModel(nn.Module):\n",
    "    def __init__(self):\n",
    "        super().__init__()\n",
    "        self.linear = nn.Linear(input_size, num_classes)\n",
    "        \n",
    "    def forward(self, xb):\n",
    "        xb = xb.reshape(-1, 784)\n",
    "        out = self.linear(xb)\n",
    "        return out\n",
    "\n",
    "model = MNISTModel()"
   ]
  },
  {
   "cell_type": "markdown",
   "id": "experienced-riding",
   "metadata": {},
   "source": [
    "```__init__``` method is to initialize weights and bias"
   ]
  },
  {
   "cell_type": "markdown",
   "id": "single-mauritius",
   "metadata": {},
   "source": [
    "putting a -1 in reshape means whatever is the dimension of xb it should become ```d1 x 784```. So in our case xb will be ```100 x 1 x 28 x 28``` so reshape will auto detect/figure out this as ```100 x 784```\n",
    "\n",
    "So reshape this way will work for any batch size that may want to change to in the future"
   ]
  },
  {
   "cell_type": "markdown",
   "id": "suspected-approval",
   "metadata": {},
   "source": [
    "so now weight and bias is present in ```model.linear.weight``` etc and NOT ```model.weight``` but ```model.parameters``` will still hold good as before"
   ]
  },
  {
   "cell_type": "code",
   "execution_count": 122,
   "id": "cubic-nancy",
   "metadata": {},
   "outputs": [
    {
     "ename": "AttributeError",
     "evalue": "'MNISTModel' object has no attribute 'weight'",
     "output_type": "error",
     "traceback": [
      "\u001b[0;31m---------------------------------------------------------------------------\u001b[0m",
      "\u001b[0;31mAttributeError\u001b[0m                            Traceback (most recent call last)",
      "\u001b[0;32m<ipython-input-122-fea901f7bb7d>\u001b[0m in \u001b[0;36m<module>\u001b[0;34m\u001b[0m\n\u001b[0;32m----> 1\u001b[0;31m \u001b[0mmodel\u001b[0m\u001b[0;34m.\u001b[0m\u001b[0mweight\u001b[0m\u001b[0;34m\u001b[0m\u001b[0;34m\u001b[0m\u001b[0m\n\u001b[0m",
      "\u001b[0;32m~/.pyenv/versions/3.8.1/Python.framework/Versions/3.8/lib/python3.8/site-packages/torch/nn/modules/module.py\u001b[0m in \u001b[0;36m__getattr__\u001b[0;34m(self, name)\u001b[0m\n\u001b[1;32m    945\u001b[0m             \u001b[0;32mif\u001b[0m \u001b[0mname\u001b[0m \u001b[0;32min\u001b[0m \u001b[0mmodules\u001b[0m\u001b[0;34m:\u001b[0m\u001b[0;34m\u001b[0m\u001b[0;34m\u001b[0m\u001b[0m\n\u001b[1;32m    946\u001b[0m                 \u001b[0;32mreturn\u001b[0m \u001b[0mmodules\u001b[0m\u001b[0;34m[\u001b[0m\u001b[0mname\u001b[0m\u001b[0;34m]\u001b[0m\u001b[0;34m\u001b[0m\u001b[0;34m\u001b[0m\u001b[0m\n\u001b[0;32m--> 947\u001b[0;31m         raise AttributeError(\"'{}' object has no attribute '{}'\".format(\n\u001b[0m\u001b[1;32m    948\u001b[0m             type(self).__name__, name))\n\u001b[1;32m    949\u001b[0m \u001b[0;34m\u001b[0m\u001b[0m\n",
      "\u001b[0;31mAttributeError\u001b[0m: 'MNISTModel' object has no attribute 'weight'"
     ]
    }
   ],
   "source": [
    "model.weight"
   ]
  },
  {
   "cell_type": "code",
   "execution_count": 123,
   "id": "advance-decimal",
   "metadata": {},
   "outputs": [
    {
     "data": {
      "text/plain": [
       "Parameter containing:\n",
       "tensor([[ 2.4952e-03,  2.2008e-02, -3.1070e-02,  ..., -1.5770e-02,\n",
       "          2.4102e-02,  1.4692e-02],\n",
       "        [-1.6870e-02, -3.7102e-03,  1.0140e-04,  ..., -1.0561e-02,\n",
       "         -2.3718e-02, -8.3316e-03],\n",
       "        [ 1.1923e-02, -2.8840e-02,  1.8046e-02,  ..., -2.2384e-02,\n",
       "         -3.1026e-02, -1.8682e-02],\n",
       "        ...,\n",
       "        [ 1.4839e-02, -9.5271e-03, -2.2900e-02,  ..., -2.7379e-02,\n",
       "          1.5582e-02,  3.1749e-02],\n",
       "        [ 2.2639e-02, -4.8003e-03,  5.8908e-04,  ...,  2.3464e-02,\n",
       "         -1.0256e-02,  1.9450e-02],\n",
       "        [ 1.3147e-02, -8.8629e-03,  5.9703e-03,  ..., -2.6644e-02,\n",
       "          9.5937e-05, -2.5678e-02]], requires_grad=True)"
      ]
     },
     "execution_count": 123,
     "metadata": {},
     "output_type": "execute_result"
    }
   ],
   "source": [
    "model.linear.weight"
   ]
  },
  {
   "cell_type": "code",
   "execution_count": 124,
   "id": "absolute-brain",
   "metadata": {},
   "outputs": [
    {
     "data": {
      "text/plain": [
       "[Parameter containing:\n",
       " tensor([[ 2.4952e-03,  2.2008e-02, -3.1070e-02,  ..., -1.5770e-02,\n",
       "           2.4102e-02,  1.4692e-02],\n",
       "         [-1.6870e-02, -3.7102e-03,  1.0140e-04,  ..., -1.0561e-02,\n",
       "          -2.3718e-02, -8.3316e-03],\n",
       "         [ 1.1923e-02, -2.8840e-02,  1.8046e-02,  ..., -2.2384e-02,\n",
       "          -3.1026e-02, -1.8682e-02],\n",
       "         ...,\n",
       "         [ 1.4839e-02, -9.5271e-03, -2.2900e-02,  ..., -2.7379e-02,\n",
       "           1.5582e-02,  3.1749e-02],\n",
       "         [ 2.2639e-02, -4.8003e-03,  5.8908e-04,  ...,  2.3464e-02,\n",
       "          -1.0256e-02,  1.9450e-02],\n",
       "         [ 1.3147e-02, -8.8629e-03,  5.9703e-03,  ..., -2.6644e-02,\n",
       "           9.5937e-05, -2.5678e-02]], requires_grad=True),\n",
       " Parameter containing:\n",
       " tensor([-0.0289, -0.0179,  0.0296,  0.0223,  0.0066, -0.0103, -0.0088,  0.0064,\n",
       "         -0.0156, -0.0004], requires_grad=True)]"
      ]
     },
     "execution_count": 124,
     "metadata": {},
     "output_type": "execute_result"
    }
   ],
   "source": [
    "list(model.parameters())"
   ]
  },
  {
   "cell_type": "code",
   "execution_count": 125,
   "id": "packed-measure",
   "metadata": {},
   "outputs": [
    {
     "name": "stdout",
     "output_type": "stream",
     "text": [
      "tensor([4, 8, 9, 8, 0, 9, 9, 5, 0, 7, 5, 6, 8, 2, 3, 7, 5, 0, 0, 4, 2, 3, 5, 0,\n",
      "        9, 5, 6, 1, 9, 0, 4, 4, 5, 9, 8, 7, 6, 4, 9, 1, 9, 3, 2, 9, 9, 3, 9, 8,\n",
      "        1, 3, 7, 0, 6, 0, 0, 2, 8, 4, 4, 7, 3, 8, 2, 8, 4, 3, 0, 4, 6, 1, 8, 7,\n",
      "        1, 0, 2, 8, 7, 4, 2, 1, 8, 2, 7, 1, 1, 3, 8, 1, 7, 6, 7, 7, 4, 9, 9, 4,\n",
      "        7, 2, 7, 9, 2, 9, 7, 8, 6, 6, 3, 6, 1, 7, 1, 5, 0, 5, 0, 9, 7, 2, 9, 3,\n",
      "        5, 5, 1, 1, 7, 9, 0, 5, 4, 3, 4, 2, 5, 8, 6, 3, 0, 0, 0, 8, 1, 4, 3, 4,\n",
      "        3, 6, 0, 9, 0, 1, 9, 3, 3, 4, 9, 3, 0, 7, 1, 7, 3, 0, 6, 4, 4, 9, 9, 5,\n",
      "        7, 9, 9, 5, 2, 5, 9, 6, 1, 7, 7, 5, 4, 3, 2, 2, 4, 0, 3, 4, 1, 7, 9, 3,\n",
      "        4, 5, 2, 8, 8, 9, 3, 9, 7, 2, 3, 4, 8, 0, 2, 8, 2, 3, 0, 4, 1, 5, 3, 6,\n",
      "        3, 7, 6, 4, 0, 0, 6, 9, 0, 3, 5, 3, 7, 1, 0, 7, 2, 1, 1, 8, 6, 2, 4, 6,\n",
      "        9, 2, 2, 5, 4, 6, 8, 8, 1, 2, 0, 2, 7, 0, 7, 6, 8, 7, 6, 1, 4, 7, 5, 2,\n",
      "        1, 4, 7, 2, 3, 7, 4, 1, 1, 3, 0, 8, 3, 7, 6, 6, 1, 6, 2, 0, 9, 5, 8, 3,\n",
      "        6, 6, 1, 3, 5, 0, 3, 3, 3, 6, 6, 5, 1, 1, 4, 2, 8, 5, 7, 8, 9, 7, 7, 4,\n",
      "        1, 3, 2, 1, 7, 4, 8, 8, 9, 6, 8, 1, 2, 7, 4, 8, 7, 2, 0, 2, 1, 2, 9, 9,\n",
      "        1, 4, 8, 5, 0, 0, 7, 4, 1, 5, 9, 0, 1, 5, 8, 2, 4, 7, 6, 4, 6, 9, 6, 3,\n",
      "        6, 0, 8, 3, 3, 5, 2, 3, 6, 6, 2, 4, 8, 3, 3, 6, 8, 8, 7, 8, 6, 7, 3, 7,\n",
      "        2, 6, 1, 3, 7, 6, 9, 3, 3, 4, 1, 0, 7, 0, 5, 0, 4, 4, 0, 6, 1, 7, 1, 5,\n",
      "        9, 8, 7, 0, 4, 1, 3, 2, 0, 9, 9, 8, 4, 6, 2, 0, 6, 8, 4, 2, 9, 5, 5, 7,\n",
      "        4, 9, 5, 3, 2, 2, 2, 4, 1, 1, 8, 8, 5, 7, 4, 9, 9, 4, 3, 8, 7, 6, 8, 3,\n",
      "        6, 4, 0, 2, 6, 3, 0, 9, 4, 7, 9, 4, 1, 9, 6, 9, 9, 7, 8, 4, 7, 6, 7, 0,\n",
      "        1, 1, 7, 1, 3, 3, 6, 3, 9, 7, 2, 9, 9, 8, 2, 8, 6, 5, 5, 9])\n",
      "torch.Size([500, 28, 28])\n",
      "tensor([[ -24.0279,   15.9519,    2.3463,  ...,   57.9422,  -17.5830,\n",
      "          -57.5049],\n",
      "        [  19.3816,  -23.5556,  -19.1464,  ...,   80.5875,  -50.9923,\n",
      "           19.6638],\n",
      "        [  30.7653,  -12.8186,   -2.0849,  ...,   35.7862,  -17.5325,\n",
      "           11.0873],\n",
      "        ...,\n",
      "        [  32.5163,   10.6963,  -24.1133,  ...,  -12.8456,    3.0552,\n",
      "           42.0549],\n",
      "        [ -23.4617,   18.7093,  -62.1802,  ...,   29.4289, -119.6965,\n",
      "            9.4819],\n",
      "        [  10.2819, -122.2271,   38.4967,  ...,   70.0278,  -53.2408,\n",
      "          -40.2790]], grad_fn=<AddmmBackward>)\n"
     ]
    }
   ],
   "source": [
    "for images, labels in train_loader:\n",
    "    print(labels)\n",
    "    print(images.shape)\n",
    "    outputs = model(images) #Notice it calls forward() function\n",
    "    print(outputs)\n",
    "    break\n",
    "    "
   ]
  },
  {
   "cell_type": "markdown",
   "id": "olive-lexington",
   "metadata": {},
   "source": [
    "Motivation for Softmax "
   ]
  },
  {
   "attachments": {
    "image-2.png": {
     "image/png": "[encoded data removed]"
    },
    "image.png": {
     "image/png": "[encoded data removed]"
    }
   },
   "cell_type": "markdown",
   "id": "coordinated-tower",
   "metadata": {},
   "source": [
    "![image.png](attachment:image.png)\n",
    "![image-2.png](attachment:image-2.png)"
   ]
  },
  {
   "cell_type": "code",
   "execution_count": 126,
   "id": "abandoned-grain",
   "metadata": {},
   "outputs": [],
   "source": [
    "import torch.nn.functional as F"
   ]
  },
  {
   "cell_type": "code",
   "execution_count": 127,
   "id": "searching-conducting",
   "metadata": {},
   "outputs": [
    {
     "name": "stdout",
     "output_type": "stream",
     "text": [
      "torch.Size([500, 10])\n",
      "Sample Probabilities:  tensor([[1.9357e-40, 4.4650e-23, 5.5078e-29, 8.4241e-26, 1.0486e-17, 7.0065e-44,\n",
      "         9.9992e-01, 7.6911e-05, 1.2184e-37, 0.0000e+00],\n",
      "        [2.1818e-27, 0.0000e+00, 4.0638e-44, 0.0000e+00, 3.4803e-04, 0.0000e+00,\n",
      "         1.6751e-01, 8.3214e-01, 0.0000e+00, 2.8932e-27]])\n",
      "Add up Probabilities:  1.0\n"
     ]
    }
   ],
   "source": [
    "# Apply softmax for each row\n",
    "probs = F.softmax(outputs, dim=1) # which dimension you want to apply softmax and sum to be 1.\n",
    "\n",
    "#In this case, outputs is 2D and we want the 2nd dimension (0 is row and 1 is column - 2nd dimension)\n",
    "\n",
    "print(probs.shape) ## 100 rows and 10 output neurons\n",
    "\n",
    "## Look at some probabilities\n",
    "print(\"Sample Probabilities: \", probs[:2].data) # print two rows of 10 probabilities each [0:2] which is also [:2]\n",
    "\n",
    "## Add up probabilities\n",
    "print(\"Add up Probabilities: \", torch.sum(probs[0]).item())"
   ]
  },
  {
   "cell_type": "code",
   "execution_count": 128,
   "id": "eleven-adolescent",
   "metadata": {},
   "outputs": [],
   "source": [
    "max_probs, preds = torch.max(probs, dim=1) #same logic as above for dimension. "
   ]
  },
  {
   "cell_type": "code",
   "execution_count": 129,
   "id": "proof-madrid",
   "metadata": {},
   "outputs": [
    {
     "data": {
      "text/plain": [
       "tensor([6, 7, 4, 6, 6, 7, 2, 6, 6, 6, 0, 7, 6, 6, 5, 8, 6, 6, 6, 6, 6, 7, 4, 6,\n",
       "        7, 6, 6, 6, 2, 6, 6, 6, 6, 2, 6, 6, 6, 4, 7, 1, 5, 4, 6, 7, 7, 6, 7, 6,\n",
       "        6, 6, 4, 4, 6, 6, 6, 6, 6, 6, 6, 4, 6, 6, 6, 6, 6, 7, 4, 0, 6, 6, 6, 5,\n",
       "        6, 6, 6, 4, 5, 7, 7, 4, 6, 6, 6, 6, 6, 6, 6, 6, 4, 6, 9, 0, 7, 7, 7, 7,\n",
       "        4, 6, 6, 6, 6, 7, 6, 6, 7, 6, 7, 6, 6, 4, 6, 2, 6, 1, 6, 7, 2, 6, 4, 4,\n",
       "        7, 7, 7, 6, 6, 2, 6, 6, 6, 7, 6, 6, 7, 6, 6, 6, 6, 6, 6, 6, 6, 4, 6, 6,\n",
       "        6, 6, 6, 6, 6, 4, 7, 6, 9, 6, 4, 9, 6, 4, 6, 6, 6, 6, 6, 7, 4, 2, 1, 6,\n",
       "        2, 4, 6, 6, 6, 7, 6, 0, 6, 2, 6, 7, 6, 2, 7, 6, 6, 6, 7, 7, 4, 0, 7, 6,\n",
       "        6, 6, 6, 6, 6, 7, 4, 6, 6, 6, 7, 4, 6, 2, 6, 6, 6, 6, 6, 4, 4, 4, 9, 6,\n",
       "        6, 6, 6, 7, 6, 6, 6, 6, 6, 7, 6, 6, 2, 7, 6, 6, 7, 7, 2, 4, 6, 6, 7, 6,\n",
       "        4, 6, 6, 6, 7, 6, 6, 6, 6, 6, 6, 6, 5, 6, 0, 7, 6, 6, 6, 7, 6, 6, 6, 6,\n",
       "        7, 4, 2, 6, 7, 6, 7, 6, 4, 4, 6, 6, 6, 0, 6, 6, 6, 6, 8, 6, 6, 6, 4, 6,\n",
       "        6, 6, 6, 9, 6, 6, 6, 5, 9, 6, 6, 6, 3, 6, 7, 6, 6, 3, 6, 6, 4, 0, 6, 7,\n",
       "        7, 6, 6, 6, 0, 6, 4, 6, 7, 7, 6, 7, 6, 6, 7, 6, 6, 6, 6, 6, 6, 6, 7, 4,\n",
       "        6, 1, 6, 6, 6, 6, 9, 6, 7, 4, 6, 6, 9, 4, 6, 6, 7, 2, 6, 7, 6, 4, 6, 4,\n",
       "        6, 6, 4, 6, 4, 4, 6, 2, 6, 6, 6, 7, 4, 6, 7, 6, 6, 7, 1, 6, 6, 6, 6, 4,\n",
       "        6, 6, 1, 7, 4, 7, 6, 7, 6, 1, 7, 6, 4, 6, 6, 6, 7, 4, 6, 6, 6, 4, 6, 4,\n",
       "        4, 6, 7, 6, 6, 6, 6, 6, 6, 6, 4, 6, 7, 6, 6, 6, 7, 6, 6, 6, 1, 6, 7, 6,\n",
       "        6, 7, 7, 6, 6, 6, 6, 6, 6, 6, 4, 6, 6, 0, 4, 2, 6, 6, 6, 6, 6, 6, 6, 9,\n",
       "        6, 6, 9, 6, 6, 7, 6, 6, 6, 6, 7, 6, 7, 6, 7, 1, 0, 4, 4, 1, 5, 6, 8, 6,\n",
       "        7, 9, 6, 4, 6, 6, 6, 6, 4, 7, 6, 6, 4, 6, 6, 6, 6, 4, 6, 7])"
      ]
     },
     "execution_count": 129,
     "metadata": {},
     "output_type": "execute_result"
    }
   ],
   "source": [
    "preds"
   ]
  },
  {
   "cell_type": "code",
   "execution_count": 130,
   "id": "recovered-pocket",
   "metadata": {},
   "outputs": [
    {
     "data": {
      "text/plain": [
       "tensor([4, 8, 9, 8, 0, 9, 9, 5, 0, 7, 5, 6, 8, 2, 3, 7, 5, 0, 0, 4, 2, 3, 5, 0,\n",
       "        9, 5, 6, 1, 9, 0, 4, 4, 5, 9, 8, 7, 6, 4, 9, 1, 9, 3, 2, 9, 9, 3, 9, 8,\n",
       "        1, 3, 7, 0, 6, 0, 0, 2, 8, 4, 4, 7, 3, 8, 2, 8, 4, 3, 0, 4, 6, 1, 8, 7,\n",
       "        1, 0, 2, 8, 7, 4, 2, 1, 8, 2, 7, 1, 1, 3, 8, 1, 7, 6, 7, 7, 4, 9, 9, 4,\n",
       "        7, 2, 7, 9, 2, 9, 7, 8, 6, 6, 3, 6, 1, 7, 1, 5, 0, 5, 0, 9, 7, 2, 9, 3,\n",
       "        5, 5, 1, 1, 7, 9, 0, 5, 4, 3, 4, 2, 5, 8, 6, 3, 0, 0, 0, 8, 1, 4, 3, 4,\n",
       "        3, 6, 0, 9, 0, 1, 9, 3, 3, 4, 9, 3, 0, 7, 1, 7, 3, 0, 6, 4, 4, 9, 9, 5,\n",
       "        7, 9, 9, 5, 2, 5, 9, 6, 1, 7, 7, 5, 4, 3, 2, 2, 4, 0, 3, 4, 1, 7, 9, 3,\n",
       "        4, 5, 2, 8, 8, 9, 3, 9, 7, 2, 3, 4, 8, 0, 2, 8, 2, 3, 0, 4, 1, 5, 3, 6,\n",
       "        3, 7, 6, 4, 0, 0, 6, 9, 0, 3, 5, 3, 7, 1, 0, 7, 2, 1, 1, 8, 6, 2, 4, 6,\n",
       "        9, 2, 2, 5, 4, 6, 8, 8, 1, 2, 0, 2, 7, 0, 7, 6, 8, 7, 6, 1, 4, 7, 5, 2,\n",
       "        1, 4, 7, 2, 3, 7, 4, 1, 1, 3, 0, 8, 3, 7, 6, 6, 1, 6, 2, 0, 9, 5, 8, 3,\n",
       "        6, 6, 1, 3, 5, 0, 3, 3, 3, 6, 6, 5, 1, 1, 4, 2, 8, 5, 7, 8, 9, 7, 7, 4,\n",
       "        1, 3, 2, 1, 7, 4, 8, 8, 9, 6, 8, 1, 2, 7, 4, 8, 7, 2, 0, 2, 1, 2, 9, 9,\n",
       "        1, 4, 8, 5, 0, 0, 7, 4, 1, 5, 9, 0, 1, 5, 8, 2, 4, 7, 6, 4, 6, 9, 6, 3,\n",
       "        6, 0, 8, 3, 3, 5, 2, 3, 6, 6, 2, 4, 8, 3, 3, 6, 8, 8, 7, 8, 6, 7, 3, 7,\n",
       "        2, 6, 1, 3, 7, 6, 9, 3, 3, 4, 1, 0, 7, 0, 5, 0, 4, 4, 0, 6, 1, 7, 1, 5,\n",
       "        9, 8, 7, 0, 4, 1, 3, 2, 0, 9, 9, 8, 4, 6, 2, 0, 6, 8, 4, 2, 9, 5, 5, 7,\n",
       "        4, 9, 5, 3, 2, 2, 2, 4, 1, 1, 8, 8, 5, 7, 4, 9, 9, 4, 3, 8, 7, 6, 8, 3,\n",
       "        6, 4, 0, 2, 6, 3, 0, 9, 4, 7, 9, 4, 1, 9, 6, 9, 9, 7, 8, 4, 7, 6, 7, 0,\n",
       "        1, 1, 7, 1, 3, 3, 6, 3, 9, 7, 2, 9, 9, 8, 2, 8, 6, 5, 5, 9])"
      ]
     },
     "execution_count": 130,
     "metadata": {},
     "output_type": "execute_result"
    }
   ],
   "source": [
    "labels"
   ]
  },
  {
   "cell_type": "markdown",
   "id": "brown-application",
   "metadata": {},
   "source": [
    "# Evaluation Metric and Loss Function"
   ]
  },
  {
   "cell_type": "code",
   "execution_count": 131,
   "id": "stock-camping",
   "metadata": {},
   "outputs": [],
   "source": [
    "def accuracy(l1, l2):\n",
    "    return torch.sum(l1 == l2).item() / len(l1)"
   ]
  },
  {
   "cell_type": "code",
   "execution_count": 132,
   "id": "finnish-bradley",
   "metadata": {},
   "outputs": [
    {
     "name": "stdout",
     "output_type": "stream",
     "text": [
      "0.106\n"
     ]
    }
   ],
   "source": [
    "print(accuracy(preds, labels))"
   ]
  },
  {
   "cell_type": "markdown",
   "id": "growing-dimension",
   "metadata": {},
   "source": [
    "Cross Entropy Loss - Intuitive Example"
   ]
  },
  {
   "cell_type": "code",
   "execution_count": 133,
   "id": "corresponding-lemon",
   "metadata": {},
   "outputs": [
    {
     "name": "stdout",
     "output_type": "stream",
     "text": [
      "prob :  0.12\n",
      "log loss:  2.120263536200091\n"
     ]
    }
   ],
   "source": [
    "## Label\n",
    "l_temp = np.array([0, 1, 0, 0, 0, 0, 0, 0, 0, 0]) # Label is 2\n",
    "## Probabilities\n",
    "p_temp = np.array([0.01, 0.12, 0.08, 0.001, 0.001, 0.003, 0.005, 0.6, 0.1, 0.15]) #should sum up to 1, ignore for now if it doesnt\n",
    "\n",
    "loss = l_temp * p_temp\n",
    "loss = loss[loss != 0]\n",
    "loss = loss[0]\n",
    "print(\"prob : \" ,  loss)\n",
    "\n",
    "import math\n",
    "log_loss = -math.log(loss)\n",
    "print(\"log loss: \", log_loss)"
   ]
  },
  {
   "cell_type": "markdown",
   "id": "senior-ambassador",
   "metadata": {},
   "source": [
    "when prob of label ```2``` is close to ```1.0```"
   ]
  },
  {
   "cell_type": "code",
   "execution_count": 134,
   "id": "bibliographic-television",
   "metadata": {},
   "outputs": [
    {
     "name": "stdout",
     "output_type": "stream",
     "text": [
      "prob :  0.92\n",
      "log loss:  0.08338160893905101\n"
     ]
    }
   ],
   "source": [
    "## Label\n",
    "l_temp = np.array([0, 1, 0, 0, 0, 0, 0, 0, 0, 0]) # Label is 2\n",
    "## Probabilities\n",
    "p_temp = np.array([0.01, 0.92, 0.08, 0.001, 0.001, 0.003, 0.005, 0.12, 0.1, 0.15]) #should sum up to 1, ignore for now if it doesnt\n",
    "\n",
    "\n",
    "loss = l_temp * p_temp\n",
    "loss = loss[loss != 0]\n",
    "loss = loss[0]\n",
    "print(\"prob : \" ,  loss)\n",
    "\n",
    "import math\n",
    "log_loss = -math.log(loss)\n",
    "print(\"log loss: \", log_loss)"
   ]
  },
  {
   "cell_type": "markdown",
   "id": "sunrise-desktop",
   "metadata": {},
   "source": [
    "The above is for a single row. For a batch we take the ```average``` of this loss"
   ]
  },
  {
   "cell_type": "code",
   "execution_count": 135,
   "id": "bearing-soccer",
   "metadata": {},
   "outputs": [],
   "source": [
    "import torch.nn.functional as F\n",
    "\n",
    "loss_fn = F.cross_entropy"
   ]
  },
  {
   "cell_type": "code",
   "execution_count": 136,
   "id": "capital-robinson",
   "metadata": {},
   "outputs": [
    {
     "data": {
      "text/plain": [
       "(torch.Size([500, 10]), torch.Size([500]))"
      ]
     },
     "execution_count": 136,
     "metadata": {},
     "output_type": "execute_result"
    }
   ],
   "source": [
    "outputs.shape, labels.shape"
   ]
  },
  {
   "cell_type": "code",
   "execution_count": 137,
   "id": "statutory-string",
   "metadata": {},
   "outputs": [],
   "source": [
    "#loss = loss_fn(outputs, labels.type(torch.LongTensor)) # if the labels was float and not int then convert to int\n",
    "loss = loss_fn(outputs, labels) # labels should be int and not float"
   ]
  },
  {
   "cell_type": "code",
   "execution_count": 138,
   "id": "defined-scenario",
   "metadata": {},
   "outputs": [
    {
     "data": {
      "text/plain": [
       "tensor(86.2888, grad_fn=<NllLossBackward>)"
      ]
     },
     "execution_count": 138,
     "metadata": {},
     "output_type": "execute_result"
    }
   ],
   "source": [
    "loss"
   ]
  },
  {
   "cell_type": "code",
   "execution_count": 139,
   "id": "smaller-lotus",
   "metadata": {},
   "outputs": [
    {
     "data": {
      "text/plain": [
       "3.351524022240048e-38"
      ]
     },
     "execution_count": 139,
     "metadata": {},
     "output_type": "execute_result"
    }
   ],
   "source": [
    "np.exp(-loss.item())"
   ]
  },
  {
   "cell_type": "markdown",
   "id": "dimensional-prize",
   "metadata": {},
   "source": [
    "# Optimizer"
   ]
  },
  {
   "cell_type": "code",
   "execution_count": 140,
   "id": "cultural-covering",
   "metadata": {},
   "outputs": [],
   "source": [
    "lr = 0.001\n",
    "optimizer = torch.optim.SGD(model.parameters(), lr = lr)"
   ]
  },
  {
   "cell_type": "code",
   "execution_count": 183,
   "id": "certain-miracle",
   "metadata": {},
   "outputs": [],
   "source": [
    "def loss_batch(model, loss_func, xb, yb, opt = None, metric = None ):\n",
    "    preds = model(xb) # Notice it calls forward fucntion\n",
    "    loss = loss_func(preds, yb)\n",
    "    if opt is not None:\n",
    "        loss.backward()\n",
    "        opt.step()\n",
    "        opt.zero_grad()\n",
    "        \n",
    "    metric_result = None\n",
    "    if metric is not None:\n",
    "        metric_result = metric(preds, yb)\n",
    "        \n",
    "    return loss.item(), len(xb), metric_result"
   ]
  },
  {
   "cell_type": "code",
   "execution_count": 281,
   "id": "proper-nickname",
   "metadata": {},
   "outputs": [],
   "source": [
    "def evaluate(model, loss_func, valid_dl, metric):\n",
    "    with torch.no_grad(): ## needed because we dont want to recompute gradients for validation data\n",
    "        results = [loss_batch(model, loss_func, xb, yb, opt=None, metric = metric) \n",
    "                   for xb, yb in valid_dl]\n",
    "        \n",
    "        # results will be stored for each batch of validation data\n",
    "        \n",
    "        losses, batch_size_list, metric_values = zip(*results) #unlist and separate each\n",
    "        total_validation_rows = np.sum(batch_size_list)\n",
    "        avg_loss = np.sum(np.multiply(losses , batch_size_list)) / total_validation_rows \n",
    "        #batch size could be different for the last batch so doing weighted average\n",
    "        \n",
    "        avg_metric = None\n",
    "        if metric is not None:\n",
    "            avg_metric = np.sum(np.multiply(metric_values, batch_size_list)) / total_validation_rows\n",
    "            \n",
    "        return avg_loss, total_validation_rows, avg_metric"
   ]
  },
  {
   "cell_type": "markdown",
   "id": "surprised-german",
   "metadata": {},
   "source": [
    "# Accuracy Metric"
   ]
  },
  {
   "cell_type": "code",
   "execution_count": 282,
   "id": "steady-hungarian",
   "metadata": {},
   "outputs": [],
   "source": [
    "def accuracy(outputs, labels):\n",
    "    # Apply softmax for each row\n",
    "    probs = F.softmax(outputs, dim=1) \n",
    "    _, preds = torch.max(probs, dim = 1) \n",
    "    \n",
    "    return torch.sum(preds == labels).item() / len(labels)"
   ]
  },
  {
   "cell_type": "markdown",
   "id": "according-complaint",
   "metadata": {},
   "source": [
    "```_``` gives the probability, ```preds``` gives the predicted label (index)\n",
    "\n",
    "we can directly use the ```outputs``` in ```torch.max``` if we are not worried about getting the probability and logit itself is fine"
   ]
  },
  {
   "cell_type": "code",
   "execution_count": 283,
   "id": "cathedral-explanation",
   "metadata": {},
   "outputs": [
    {
     "data": {
      "text/plain": [
       "0.106"
      ]
     },
     "execution_count": 283,
     "metadata": {},
     "output_type": "execute_result"
    }
   ],
   "source": [
    "accuracy(outputs, labels)"
   ]
  },
  {
   "cell_type": "code",
   "execution_count": 284,
   "id": "fleet-investigator",
   "metadata": {},
   "outputs": [
    {
     "data": {
      "text/plain": [
       "(2.3037910908460617, 12000, 0.8625833333333334)"
      ]
     },
     "execution_count": 284,
     "metadata": {},
     "output_type": "execute_result"
    }
   ],
   "source": [
    "val_loss, val_rows, val_metric = evaluate(model, loss_fn, val_loader, accuracy)\n",
    "val_loss, val_rows, val_metric"
   ]
  },
  {
   "cell_type": "markdown",
   "id": "palestinian-valve",
   "metadata": {},
   "source": [
    "Generally model with random weights should have similar loss and accuracy on train and validation set. Just to ensure the validation set doesnt show any distribution shift"
   ]
  },
  {
   "cell_type": "markdown",
   "id": "numerous-nelson",
   "metadata": {},
   "source": [
    "# Fitting the model"
   ]
  },
  {
   "cell_type": "code",
   "execution_count": 294,
   "id": "suspected-alberta",
   "metadata": {},
   "outputs": [],
   "source": [
    "def fit(epochs, model, loss_fn, opt, train_dl, val_dl, metric = None):\n",
    "    for epoch in range(epochs):\n",
    "        # TRAINING\n",
    "        for xb, yb in train_dl:\n",
    "            loss,_1,_2 = loss_batch(model, loss_fn, xb, yb, opt, metric)\n",
    "\n",
    "        # EVALUATION on train data\n",
    "        result = evaluate(model, loss_fn, val_dl, metric)\n",
    "        val_loss, total, val_metric = result\n",
    "        \n",
    "        print()\n",
    "        print(f'Epoch: {epoch + 1}/{epochs}')\n",
    "        print(f'Loss: {round(val_loss, 3)}')\n",
    "        if metric is not None:\n",
    "            print(f'{metric.__name__} : {round(val_metric*100, 2)}%')\n",
    "        "
   ]
  },
  {
   "cell_type": "code",
   "execution_count": 295,
   "id": "historical-shade",
   "metadata": {},
   "outputs": [
    {
     "name": "stdout",
     "output_type": "stream",
     "text": [
      "\n",
      "Epoch: 1/1\n",
      "Loss: 2.116\n",
      "accuracy : 86.82%\n"
     ]
    }
   ],
   "source": [
    "fit(1, model, loss_fn, optimizer, train_loader, val_loader, accuracy)"
   ]
  },
  {
   "cell_type": "code",
   "execution_count": 296,
   "id": "hybrid-decrease",
   "metadata": {},
   "outputs": [],
   "source": [
    "# Redefine model and optimizer\n",
    "model = MNISTModel()\n",
    "optimizer = torch.optim.SGD(model.parameters(), lr = 0.0001)\n",
    "loss_fn = F.cross_entropy"
   ]
  },
  {
   "cell_type": "code",
   "execution_count": 297,
   "id": "hydraulic-patent",
   "metadata": {},
   "outputs": [
    {
     "name": "stdout",
     "output_type": "stream",
     "text": [
      "\n",
      "Epoch: 1/5\n",
      "Loss: 4.495\n",
      "accuracy : 79.79%\n",
      "\n",
      "Epoch: 2/5\n",
      "Loss: 3.346\n",
      "accuracy : 83.32%\n",
      "\n",
      "Epoch: 3/5\n",
      "Loss: 2.872\n",
      "accuracy : 84.68%\n",
      "\n",
      "Epoch: 4/5\n",
      "Loss: 2.55\n",
      "accuracy : 85.58%\n",
      "\n",
      "Epoch: 5/5\n",
      "Loss: 2.346\n",
      "accuracy : 86.18%\n"
     ]
    }
   ],
   "source": [
    "fit(5, model, loss_fn, optimizer, train_loader, val_loader, metric = accuracy)"
   ]
  },
  {
   "cell_type": "code",
   "execution_count": null,
   "id": "baking-shuttle",
   "metadata": {},
   "outputs": [],
   "source": [
    "# Predicting for one image at a time"
   ]
  },
  {
   "cell_type": "code",
   "execution_count": 332,
   "id": "raised-portuguese",
   "metadata": {},
   "outputs": [],
   "source": [
    "def predict_image(img, model):\n",
    "    y = model(img)\n",
    "    probs = F.softmax(y, dim=1)\n",
    "    prob, preds = torch.max(probs, dim=1)\n",
    "    print(probs)\n",
    "    return prob.item(), preds.item()"
   ]
  },
  {
   "cell_type": "code",
   "execution_count": 333,
   "id": "comparable-pleasure",
   "metadata": {},
   "outputs": [
    {
     "data": {
      "text/plain": [
       "torchvision.datasets.mnist.MNIST"
      ]
     },
     "execution_count": 333,
     "metadata": {},
     "output_type": "execute_result"
    }
   ],
   "source": [
    "type(test_dataset)"
   ]
  },
  {
   "cell_type": "markdown",
   "id": "indoor-jackson",
   "metadata": {},
   "source": [
    "try ```1839``` for incorrect prediction"
   ]
  },
  {
   "cell_type": "code",
   "execution_count": 359,
   "id": "rotary-dryer",
   "metadata": {},
   "outputs": [
    {
     "name": "stdout",
     "output_type": "stream",
     "text": [
      "(28, 28)\n",
      "(1, 1, 28, 28)\n",
      "2\n"
     ]
    },
    {
     "data": {
      "image/png": "[encoded data removed]",
      "text/plain": [
       "<Figure size 432x288 with 1 Axes>"
      ]
     },
     "metadata": {
      "needs_background": "light"
     },
     "output_type": "display_data"
    }
   ],
   "source": [
    "image, label = test_dataset[1839]\n",
    "image = np.array(image)\n",
    "print(image.shape)\n",
    "plt.imshow(image, cmap='gray')\n",
    "image = np.expand_dims(image, axis = 0)\n",
    "image = np.expand_dims(image, axis = 0)\n",
    "print(image.shape)\n",
    "print(label)\n"
   ]
  },
  {
   "cell_type": "code",
   "execution_count": 360,
   "id": "failing-holocaust",
   "metadata": {},
   "outputs": [
    {
     "name": "stdout",
     "output_type": "stream",
     "text": [
      "tensor([[1.5327e-22, 1.7463e-27, 1.0071e-02, 1.2900e-06, 0.0000e+00, 2.1580e-25,\n",
      "         4.1703e-35, 1.6285e-33, 9.8993e-01, 6.0839e-32]],\n",
      "       grad_fn=<SoftmaxBackward>)\n"
     ]
    },
    {
     "data": {
      "text/plain": [
       "(0.9899272918701172, 8)"
      ]
     },
     "execution_count": 360,
     "metadata": {},
     "output_type": "execute_result"
    }
   ],
   "source": [
    "predict_image(torch.from_numpy(image.astype(np.float32)), model)"
   ]
  },
  {
   "cell_type": "markdown",
   "id": "current-siemens",
   "metadata": {},
   "source": [
    "# Overall accuracy on the test dataset"
   ]
  },
  {
   "cell_type": "code",
   "execution_count": 362,
   "id": "tracked-aquatic",
   "metadata": {},
   "outputs": [],
   "source": [
    "test_dataset_np = []\n",
    "test_dataset_label_np = []\n",
    "\n",
    "for image, label in test_dataset:\n",
    "    image = np.array(image)\n",
    "    image = np.expand_dims(image, axis = 0)\n",
    "    image = np.expand_dims(image, axis = 0)\n",
    "    test_dataset_np.append(image.astype(np.float32))\n",
    "    test_dataset_label_np.append(int(label))\n",
    "    \n",
    "test_dataset_np = np.array(test_dataset_np)\n",
    "test_dataset_label_np = np.array(test_dataset_label_np)"
   ]
  },
  {
   "cell_type": "code",
   "execution_count": 364,
   "id": "incorporate-dining",
   "metadata": {},
   "outputs": [],
   "source": [
    "test_dataset_ts = torch.from_numpy(test_dataset_np)\n",
    "test_dataset_label_ts = torch.from_numpy(test_dataset_label_np)\n",
    "test_dataset = TensorDataset(test_dataset_ts, test_dataset_label_ts)"
   ]
  },
  {
   "cell_type": "code",
   "execution_count": 365,
   "id": "revised-hampton",
   "metadata": {},
   "outputs": [],
   "source": [
    "test_loader = DataLoader(test_dataset, batch_size=200)"
   ]
  },
  {
   "cell_type": "code",
   "execution_count": 368,
   "id": "brave-courage",
   "metadata": {},
   "outputs": [
    {
     "name": "stdout",
     "output_type": "stream",
     "text": [
      "test_loss: 2.19, total : 10000, test_acc : 87.03%\n"
     ]
    }
   ],
   "source": [
    "test_loss, total, test_acc = evaluate(model, loss_fn, test_loader, accuracy)\n",
    "print(f'test_loss: {round(test_loss,2)}, total : {total}, test_acc : {round(test_acc*100, 2)}%')"
   ]
  },
  {
   "cell_type": "markdown",
   "id": "innovative-walter",
   "metadata": {},
   "source": [
    "# Save the model"
   ]
  },
  {
   "cell_type": "code",
   "execution_count": 369,
   "id": "organized-credit",
   "metadata": {},
   "outputs": [],
   "source": [
    "torch.save(model.state_dict(), 'mnist-logistic.pth')"
   ]
  },
  {
   "cell_type": "markdown",
   "id": "passing-liberal",
   "metadata": {},
   "source": [
    "# Load the model back"
   ]
  },
  {
   "cell_type": "code",
   "execution_count": 372,
   "id": "indoor-winning",
   "metadata": {},
   "outputs": [
    {
     "data": {
      "text/plain": [
       "OrderedDict([('linear.weight',\n",
       "              tensor([[-6.0746e-03, -3.1684e-02,  2.7187e-02,  ...,  1.1825e-02,\n",
       "                        4.9426e-03, -1.3230e-02],\n",
       "                      [ 5.9720e-03,  7.0425e-03,  3.1283e-02,  ...,  2.0709e-02,\n",
       "                       -2.9150e-02, -9.0719e-03],\n",
       "                      [-3.5715e-04, -8.6941e-03,  2.3711e-02,  ...,  7.7115e-03,\n",
       "                       -6.5509e-03,  3.0326e-02],\n",
       "                      ...,\n",
       "                      [-2.3728e-02,  8.7987e-03, -1.1516e-02,  ..., -3.3419e-02,\n",
       "                        2.8235e-02,  1.5121e-02],\n",
       "                      [-2.5879e-02,  1.9876e-02,  2.2009e-02,  ...,  3.0362e-03,\n",
       "                        4.6877e-03, -2.6529e-03],\n",
       "                      [ 4.8470e-05,  2.1684e-02, -3.3421e-02,  ..., -1.7927e-02,\n",
       "                       -3.3045e-02,  7.7695e-03]])),\n",
       "             ('linear.bias',\n",
       "              tensor([ 0.0354, -0.0316,  0.0288,  0.0164,  0.0185,  0.0080,  0.0010,  0.0248,\n",
       "                      -0.0130, -0.0104]))])"
      ]
     },
     "execution_count": 372,
     "metadata": {},
     "output_type": "execute_result"
    }
   ],
   "source": [
    "model2 = MNISTModel()\n",
    "model2.load_state_dict(torch.load(\"./mnist-logistic.pth\"))\n",
    "model2.state_dict()"
   ]
  },
  {
   "cell_type": "markdown",
   "id": "interim-congress",
   "metadata": {},
   "source": [
    "sanity. try the above test dataset on ```model2```"
   ]
  },
  {
   "cell_type": "code",
   "execution_count": 373,
   "id": "different-memphis",
   "metadata": {},
   "outputs": [
    {
     "name": "stdout",
     "output_type": "stream",
     "text": [
      "test_loss: 2.19, total : 10000, test_acc : 87.03%\n"
     ]
    }
   ],
   "source": [
    "test_loss, total, test_acc = evaluate(model2, loss_fn, test_loader, accuracy)\n",
    "print(f'test_loss: {round(test_loss,2)}, total : {total}, test_acc : {round(test_acc*100, 2)}%')"
   ]
  },
  {
   "cell_type": "code",
   "execution_count": null,
   "id": "australian-giving",
   "metadata": {},
   "outputs": [],
   "source": []
  }
 ],
 "metadata": {
  "kernelspec": {
   "display_name": "Python 3",
   "language": "python",
   "name": "python3"
  },
  "language_info": {
   "codemirror_mode": {
    "name": "ipython",
    "version": 3
   },
   "file_extension": ".py",
   "mimetype": "text/x-python",
   "name": "python",
   "nbconvert_exporter": "python",
   "pygments_lexer": "ipython3",
   "version": "3.8.1"
  }
 },
 "nbformat": 4,
 "nbformat_minor": 5
}
